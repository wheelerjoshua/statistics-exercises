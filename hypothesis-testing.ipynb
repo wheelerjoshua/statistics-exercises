{
 "cells": [
  {
   "cell_type": "markdown",
   "id": "8f7ec1ec",
   "metadata": {},
   "source": [
    "# Hypothesis Testing Exercises\n",
    "\n",
    "Do your work for this exercise in a jupyter notebook named hypothesis_testing.ipynb.\n",
    "\n",
    "For each of the following questions, formulate a null and alternative hypothesis (be as specific as you can be), then give an example of what a true positive, true negative, type I and type II errors would look like. Note that some of the questions are intentionally phrased in a vague way. It is your job to reword these as more precise questions that could be tested."
   ]
  },
  {
   "cell_type": "markdown",
   "id": "30a91f05",
   "metadata": {},
   "source": [
    "- Has the network latency gone up since we switched internet service providers?\n",
    "\n",
    "H0 = Our latency has gone up since switching internet service providers\n",
    "\n",
    "HA = Our latency has not gone up since switching internet service providers\n",
    "\n",
    "- Is the website redesign any good?\n",
    "\n",
    "H0 = The website redesign's new banners does not change difficulty in navigating between categories\n",
    "\n",
    "HA = The website redesign's new banners make it easier to navigate between categories\n",
    "\n",
    "True Positive = The websites new banners make it easier to navigate\n",
    "\n",
    "True Negative = Websites diffuclty to navigate has not changed\n",
    "\n",
    "Type 1 = There has been no difficulty change where there is a change\n",
    "\n",
    "Type 2 = There has been no difficulty change where there is no change\n",
    "- Is our television ad driving more sales?\n",
    "\n",
    "H0 = The television ad does not affect sales\n",
    "\n",
    "HA = The television ad increased sales\n",
    "\n",
    "True Positive = The ad increased sales\n",
    "\n",
    "True Negative = The ad did not affect sales\n",
    "\n",
    "Type 1 = The ad caused sales go up, but they didn't\n",
    "\n",
    "Type 2 = The ad caused no change in sales, but sales increased"
   ]
  },
  {
   "cell_type": "markdown",
   "id": "529ce3c1",
   "metadata": {},
   "source": [
    "#  T-Test Exercises\n",
    "\n",
    "Continue working in your hypothesis_testing notebook.\n",
    "\n",
    "- Ace Realty wants to determine whether the average time it takes to sell homes is different for its two offices. A sample of 40 sales from office #1 revealed a mean of 90 days and a standard deviation of 15 days. A sample of 50 sales from office #2 revealed a mean of 100 days and a standard deviation of 20 days. Use a .05 level of significance.\n",
    "\n",
    "- Load the mpg dataset and use it to answer the following questions:\n",
    "\n",
    "    - Is there a difference in fuel-efficiency in cars from 2008 vs 1999?\n",
    "    - Are compact cars more fuel-efficient than the average car?\n",
    "    - Do manual cars get better gas mileage than automatic cars?"
   ]
  },
  {
   "cell_type": "code",
   "execution_count": 1,
   "id": "aac22a3e",
   "metadata": {},
   "outputs": [],
   "source": [
    "from scipy import stats\n",
    "import numpy as np\n",
    "import pandas as pd\n",
    "import seaborn as sns\n",
    "alpha = 0.5"
   ]
  },
  {
   "cell_type": "markdown",
   "id": "dcc7ca2b",
   "metadata": {},
   "source": [
    "### Ace Realty\n",
    "$H_{0}$: The time it takes to sell homes are the same\n",
    "\n",
    "$H_{a}$: The time it takes to sell homes are different"
   ]
  },
  {
   "cell_type": "code",
   "execution_count": 2,
   "id": "b5790420",
   "metadata": {},
   "outputs": [],
   "source": [
    "ace1 = np.random.normal(90, 15, 40)\n",
    "ace2 = np.random.normal(100, 20, 50)"
   ]
  },
  {
   "cell_type": "code",
   "execution_count": 3,
   "id": "240b0b18",
   "metadata": {},
   "outputs": [
    {
     "data": {
      "text/plain": [
       "(228.05538192493003, 417.37064446536647)"
      ]
     },
     "execution_count": 3,
     "metadata": {},
     "output_type": "execute_result"
    }
   ],
   "source": [
    "ace1.var(), ace2.var()"
   ]
  },
  {
   "cell_type": "code",
   "execution_count": 4,
   "id": "4a5c55c6",
   "metadata": {},
   "outputs": [
    {
     "data": {
      "text/plain": [
       "(2.3524481821513223, 0.010446360896281762, 0.5)"
      ]
     },
     "execution_count": 4,
     "metadata": {},
     "output_type": "execute_result"
    }
   ],
   "source": [
    "t, p = stats.ttest_ind(ace2, ace1, equal_var = False)\n",
    "t, p/2, alpha"
   ]
  },
  {
   "cell_type": "code",
   "execution_count": 5,
   "id": "8179891b",
   "metadata": {},
   "outputs": [
    {
     "name": "stdout",
     "output_type": "stream",
     "text": [
      "We reject the null hypothesis\n"
     ]
    }
   ],
   "source": [
    "if (p/2 < alpha) & (t > 0):\n",
    "    print(\"We reject the null hypothesis\")\n",
    "else:\n",
    "    print(\"We fail to reject the null hypothesis\")"
   ]
  },
  {
   "cell_type": "code",
   "execution_count": null,
   "id": "5912fe8e",
   "metadata": {},
   "outputs": [],
   "source": []
  },
  {
   "cell_type": "markdown",
   "id": "244c2221",
   "metadata": {},
   "source": [
    "### MPG\n",
    "- Is there a difference in fuel-efficiency in cars from 2008 vs 1999?\n",
    "- Are compact cars more fuel-efficient than the average car?\n",
    "- Do manual cars get better gas mileage than automatic cars?"
   ]
  },
  {
   "cell_type": "code",
   "execution_count": 9,
   "id": "dc749a24",
   "metadata": {},
   "outputs": [],
   "source": [
    "from pydataset import data\n",
    "mpg = data('mpg')"
   ]
  },
  {
   "cell_type": "code",
   "execution_count": 34,
   "id": "c15e3116",
   "metadata": {},
   "outputs": [
    {
     "data": {
      "text/html": [
       "<div>\n",
       "<style scoped>\n",
       "    .dataframe tbody tr th:only-of-type {\n",
       "        vertical-align: middle;\n",
       "    }\n",
       "\n",
       "    .dataframe tbody tr th {\n",
       "        vertical-align: top;\n",
       "    }\n",
       "\n",
       "    .dataframe thead th {\n",
       "        text-align: right;\n",
       "    }\n",
       "</style>\n",
       "<table border=\"1\" class=\"dataframe\">\n",
       "  <thead>\n",
       "    <tr style=\"text-align: right;\">\n",
       "      <th></th>\n",
       "      <th>manufacturer</th>\n",
       "      <th>model</th>\n",
       "      <th>displ</th>\n",
       "      <th>year</th>\n",
       "      <th>cyl</th>\n",
       "      <th>trans</th>\n",
       "      <th>drv</th>\n",
       "      <th>cty</th>\n",
       "      <th>hwy</th>\n",
       "      <th>fl</th>\n",
       "      <th>class</th>\n",
       "      <th>fuel_efficiency</th>\n",
       "    </tr>\n",
       "  </thead>\n",
       "  <tbody>\n",
       "    <tr>\n",
       "      <th>1</th>\n",
       "      <td>audi</td>\n",
       "      <td>a4</td>\n",
       "      <td>1.8</td>\n",
       "      <td>1999</td>\n",
       "      <td>4</td>\n",
       "      <td>auto(l5)</td>\n",
       "      <td>f</td>\n",
       "      <td>18</td>\n",
       "      <td>29</td>\n",
       "      <td>p</td>\n",
       "      <td>compact</td>\n",
       "      <td>32.5</td>\n",
       "    </tr>\n",
       "    <tr>\n",
       "      <th>2</th>\n",
       "      <td>audi</td>\n",
       "      <td>a4</td>\n",
       "      <td>1.8</td>\n",
       "      <td>1999</td>\n",
       "      <td>4</td>\n",
       "      <td>manual(m5)</td>\n",
       "      <td>f</td>\n",
       "      <td>21</td>\n",
       "      <td>29</td>\n",
       "      <td>p</td>\n",
       "      <td>compact</td>\n",
       "      <td>35.5</td>\n",
       "    </tr>\n",
       "    <tr>\n",
       "      <th>3</th>\n",
       "      <td>audi</td>\n",
       "      <td>a4</td>\n",
       "      <td>2.0</td>\n",
       "      <td>2008</td>\n",
       "      <td>4</td>\n",
       "      <td>manual(m6)</td>\n",
       "      <td>f</td>\n",
       "      <td>20</td>\n",
       "      <td>31</td>\n",
       "      <td>p</td>\n",
       "      <td>compact</td>\n",
       "      <td>35.5</td>\n",
       "    </tr>\n",
       "    <tr>\n",
       "      <th>4</th>\n",
       "      <td>audi</td>\n",
       "      <td>a4</td>\n",
       "      <td>2.0</td>\n",
       "      <td>2008</td>\n",
       "      <td>4</td>\n",
       "      <td>auto(av)</td>\n",
       "      <td>f</td>\n",
       "      <td>21</td>\n",
       "      <td>30</td>\n",
       "      <td>p</td>\n",
       "      <td>compact</td>\n",
       "      <td>36.0</td>\n",
       "    </tr>\n",
       "    <tr>\n",
       "      <th>5</th>\n",
       "      <td>audi</td>\n",
       "      <td>a4</td>\n",
       "      <td>2.8</td>\n",
       "      <td>1999</td>\n",
       "      <td>6</td>\n",
       "      <td>auto(l5)</td>\n",
       "      <td>f</td>\n",
       "      <td>16</td>\n",
       "      <td>26</td>\n",
       "      <td>p</td>\n",
       "      <td>compact</td>\n",
       "      <td>29.0</td>\n",
       "    </tr>\n",
       "    <tr>\n",
       "      <th>...</th>\n",
       "      <td>...</td>\n",
       "      <td>...</td>\n",
       "      <td>...</td>\n",
       "      <td>...</td>\n",
       "      <td>...</td>\n",
       "      <td>...</td>\n",
       "      <td>...</td>\n",
       "      <td>...</td>\n",
       "      <td>...</td>\n",
       "      <td>...</td>\n",
       "      <td>...</td>\n",
       "      <td>...</td>\n",
       "    </tr>\n",
       "    <tr>\n",
       "      <th>230</th>\n",
       "      <td>volkswagen</td>\n",
       "      <td>passat</td>\n",
       "      <td>2.0</td>\n",
       "      <td>2008</td>\n",
       "      <td>4</td>\n",
       "      <td>auto(s6)</td>\n",
       "      <td>f</td>\n",
       "      <td>19</td>\n",
       "      <td>28</td>\n",
       "      <td>p</td>\n",
       "      <td>midsize</td>\n",
       "      <td>33.0</td>\n",
       "    </tr>\n",
       "    <tr>\n",
       "      <th>231</th>\n",
       "      <td>volkswagen</td>\n",
       "      <td>passat</td>\n",
       "      <td>2.0</td>\n",
       "      <td>2008</td>\n",
       "      <td>4</td>\n",
       "      <td>manual(m6)</td>\n",
       "      <td>f</td>\n",
       "      <td>21</td>\n",
       "      <td>29</td>\n",
       "      <td>p</td>\n",
       "      <td>midsize</td>\n",
       "      <td>35.5</td>\n",
       "    </tr>\n",
       "    <tr>\n",
       "      <th>232</th>\n",
       "      <td>volkswagen</td>\n",
       "      <td>passat</td>\n",
       "      <td>2.8</td>\n",
       "      <td>1999</td>\n",
       "      <td>6</td>\n",
       "      <td>auto(l5)</td>\n",
       "      <td>f</td>\n",
       "      <td>16</td>\n",
       "      <td>26</td>\n",
       "      <td>p</td>\n",
       "      <td>midsize</td>\n",
       "      <td>29.0</td>\n",
       "    </tr>\n",
       "    <tr>\n",
       "      <th>233</th>\n",
       "      <td>volkswagen</td>\n",
       "      <td>passat</td>\n",
       "      <td>2.8</td>\n",
       "      <td>1999</td>\n",
       "      <td>6</td>\n",
       "      <td>manual(m5)</td>\n",
       "      <td>f</td>\n",
       "      <td>18</td>\n",
       "      <td>26</td>\n",
       "      <td>p</td>\n",
       "      <td>midsize</td>\n",
       "      <td>31.0</td>\n",
       "    </tr>\n",
       "    <tr>\n",
       "      <th>234</th>\n",
       "      <td>volkswagen</td>\n",
       "      <td>passat</td>\n",
       "      <td>3.6</td>\n",
       "      <td>2008</td>\n",
       "      <td>6</td>\n",
       "      <td>auto(s6)</td>\n",
       "      <td>f</td>\n",
       "      <td>17</td>\n",
       "      <td>26</td>\n",
       "      <td>p</td>\n",
       "      <td>midsize</td>\n",
       "      <td>30.0</td>\n",
       "    </tr>\n",
       "  </tbody>\n",
       "</table>\n",
       "<p>234 rows × 12 columns</p>\n",
       "</div>"
      ],
      "text/plain": [
       "    manufacturer   model  displ  year  cyl       trans drv  cty  hwy fl  \\\n",
       "1           audi      a4    1.8  1999    4    auto(l5)   f   18   29  p   \n",
       "2           audi      a4    1.8  1999    4  manual(m5)   f   21   29  p   \n",
       "3           audi      a4    2.0  2008    4  manual(m6)   f   20   31  p   \n",
       "4           audi      a4    2.0  2008    4    auto(av)   f   21   30  p   \n",
       "5           audi      a4    2.8  1999    6    auto(l5)   f   16   26  p   \n",
       "..           ...     ...    ...   ...  ...         ...  ..  ...  ... ..   \n",
       "230   volkswagen  passat    2.0  2008    4    auto(s6)   f   19   28  p   \n",
       "231   volkswagen  passat    2.0  2008    4  manual(m6)   f   21   29  p   \n",
       "232   volkswagen  passat    2.8  1999    6    auto(l5)   f   16   26  p   \n",
       "233   volkswagen  passat    2.8  1999    6  manual(m5)   f   18   26  p   \n",
       "234   volkswagen  passat    3.6  2008    6    auto(s6)   f   17   26  p   \n",
       "\n",
       "       class  fuel_efficiency  \n",
       "1    compact             32.5  \n",
       "2    compact             35.5  \n",
       "3    compact             35.5  \n",
       "4    compact             36.0  \n",
       "5    compact             29.0  \n",
       "..       ...              ...  \n",
       "230  midsize             33.0  \n",
       "231  midsize             35.5  \n",
       "232  midsize             29.0  \n",
       "233  midsize             31.0  \n",
       "234  midsize             30.0  \n",
       "\n",
       "[234 rows x 12 columns]"
      ]
     },
     "execution_count": 34,
     "metadata": {},
     "output_type": "execute_result"
    }
   ],
   "source": [
    "mpg"
   ]
  },
  {
   "cell_type": "markdown",
   "id": "a772cc30",
   "metadata": {},
   "source": [
    "### Fuel Efficiency:\n",
    "$H_{0}$: There is not a difference in fuel effiency in cars from 2008 vs 1999\n",
    "\n",
    "$H_{a}$: There is a difference in fuel efficiency in cars from 2008 vs 1999"
   ]
  },
  {
   "cell_type": "code",
   "execution_count": 11,
   "id": "86c73d8a",
   "metadata": {},
   "outputs": [],
   "source": [
    "mpg['fuel_efficiency'] = mpg.cty + mpg.hwy / 2"
   ]
  },
  {
   "cell_type": "code",
   "execution_count": 20,
   "id": "ec9a376d",
   "metadata": {},
   "outputs": [],
   "source": [
    "mpg_2008 = mpg[mpg.year == 2008].fuel_efficiency\n",
    "mpg_1999 = mpg[mpg.year == 1999].fuel_efficiency"
   ]
  },
  {
   "cell_type": "code",
   "execution_count": 22,
   "id": "9d09fa78",
   "metadata": {},
   "outputs": [
    {
     "data": {
      "text/plain": [
       "(47.87183171234894, 54.9290450928382)"
      ]
     },
     "execution_count": 22,
     "metadata": {},
     "output_type": "execute_result"
    }
   ],
   "source": [
    "mpg_2008.var(), mpg_1999.var()"
   ]
  },
  {
   "cell_type": "code",
   "execution_count": 24,
   "id": "b9ad6acd",
   "metadata": {},
   "outputs": [
    {
     "data": {
      "text/plain": [
       "(0.3236957615075299, 0.7464613597643072, 0.5)"
      ]
     },
     "execution_count": 24,
     "metadata": {},
     "output_type": "execute_result"
    }
   ],
   "source": [
    "t, p = stats.ttest_ind(mpg_1999, mpg_2008, equal_var = False)\n",
    "\n",
    "t, p, alpha"
   ]
  },
  {
   "cell_type": "code",
   "execution_count": 25,
   "id": "e787d208",
   "metadata": {},
   "outputs": [
    {
     "name": "stdout",
     "output_type": "stream",
     "text": [
      "We reject the null hypothesis\n"
     ]
    }
   ],
   "source": [
    "if (p/2 < alpha) & (t > 0):\n",
    "    print(\"We reject the null hypothesis\")\n",
    "else:\n",
    "    print(\"We fail to reject the null hypothesis\")"
   ]
  },
  {
   "cell_type": "markdown",
   "id": "55fc982a",
   "metadata": {},
   "source": [
    "### Compact vs Average\n",
    "$H_{0}$: Are compact cars efficiency = average car\n",
    "\n",
    "$H_{a}$: Are compact cars efficiency > average car"
   ]
  },
  {
   "cell_type": "code",
   "execution_count": 60,
   "id": "4ae77c1c",
   "metadata": {},
   "outputs": [],
   "source": [
    "compact = mpg[mpg['class'] == 'compact'].fuel_efficiency\n",
    "avg_car_fe = mpg.fuel_efficiency"
   ]
  },
  {
   "cell_type": "code",
   "execution_count": 64,
   "id": "6b7330c4",
   "metadata": {},
   "outputs": [
    {
     "data": {
      "text/plain": [
       "(7.511409508514616, 1.5668658053166055e-09, 0.5)"
      ]
     },
     "execution_count": 64,
     "metadata": {},
     "output_type": "execute_result"
    }
   ],
   "source": [
    "t, p = stats.ttest_1samp(compact, avg_car_fe.mean())\n",
    "t, p, alpha"
   ]
  },
  {
   "cell_type": "code",
   "execution_count": 65,
   "id": "26248f7c",
   "metadata": {},
   "outputs": [
    {
     "name": "stdout",
     "output_type": "stream",
     "text": [
      "We reject the null hypothesis\n"
     ]
    }
   ],
   "source": [
    "if (p/2 < alpha) & (t > 0):\n",
    "    print(\"We reject the null hypothesis\")\n",
    "else:\n",
    "    print(\"We fail to reject the null hypothesis\")"
   ]
  },
  {
   "cell_type": "markdown",
   "id": "52e45aea",
   "metadata": {},
   "source": [
    "### Do manual cars get better gas mileage than automatic cars?\n",
    "$H_{0}$: Are manual cars efficiency = average car\n",
    "\n",
    "$H_{a}$: Are manual cars efficiency > average car"
   ]
  },
  {
   "cell_type": "code",
   "execution_count": 79,
   "id": "e38fc9fe",
   "metadata": {},
   "outputs": [],
   "source": [
    "manual = mpg[mpg.trans.str.startswith('m')].fuel_efficiency\n",
    "automatic = mpg[mpg.trans.str.startswith('a')].fuel_efficiency"
   ]
  },
  {
   "cell_type": "code",
   "execution_count": 81,
   "id": "dbde4405",
   "metadata": {},
   "outputs": [
    {
     "data": {
      "text/plain": [
       "(54.45625427204375, 43.387412216233834)"
      ]
     },
     "execution_count": 81,
     "metadata": {},
     "output_type": "execute_result"
    }
   ],
   "source": [
    "manual.var(), automatic.var()"
   ]
  },
  {
   "cell_type": "code",
   "execution_count": 83,
   "id": "d5a9a267",
   "metadata": {},
   "outputs": [
    {
     "data": {
      "text/plain": [
       "(4.4872852093583395, 1.515980453823255e-05, 0.5)"
      ]
     },
     "execution_count": 83,
     "metadata": {},
     "output_type": "execute_result"
    }
   ],
   "source": [
    "t, p = stats.ttest_ind(manual, automatic, equal_var = False)\n",
    "t, p, alpha"
   ]
  },
  {
   "cell_type": "code",
   "execution_count": 84,
   "id": "4f566e76",
   "metadata": {},
   "outputs": [
    {
     "name": "stdout",
     "output_type": "stream",
     "text": [
      "We reject the null hypothesis\n"
     ]
    }
   ],
   "source": [
    "if (p/2 < alpha) & (t > 0):\n",
    "    print(\"We reject the null hypothesis\")\n",
    "else:\n",
    "    print(\"We fail to reject the null hypothesis\")"
   ]
  },
  {
   "cell_type": "code",
   "execution_count": null,
   "id": "e267963e",
   "metadata": {},
   "outputs": [],
   "source": []
  }
 ],
 "metadata": {
  "kernelspec": {
   "display_name": "Python 3",
   "language": "python",
   "name": "python3"
  },
  "language_info": {
   "codemirror_mode": {
    "name": "ipython",
    "version": 3
   },
   "file_extension": ".py",
   "mimetype": "text/x-python",
   "name": "python",
   "nbconvert_exporter": "python",
   "pygments_lexer": "ipython3",
   "version": "3.8.8"
  }
 },
 "nbformat": 4,
 "nbformat_minor": 5
}
