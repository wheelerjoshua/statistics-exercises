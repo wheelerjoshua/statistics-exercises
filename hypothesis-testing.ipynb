{
 "cells": [
  {
   "cell_type": "markdown",
   "id": "8f7ec1ec",
   "metadata": {},
   "source": [
    "# Hypothesis Testing Exercises\n",
    "\n",
    "Do your work for this exercise in a jupyter notebook named hypothesis_testing.ipynb.\n",
    "\n",
    "For each of the following questions, formulate a null and alternative hypothesis (be as specific as you can be), then give an example of what a true positive, true negative, type I and type II errors would look like. Note that some of the questions are intentionally phrased in a vague way. It is your job to reword these as more precise questions that could be tested."
   ]
  },
  {
   "cell_type": "markdown",
   "id": "30a91f05",
   "metadata": {},
   "source": [
    "- Has the network latency gone up since we switched internet service providers?\n",
    "\n",
    "H0 = Our latency has gone up since switching internet service providers\n",
    "\n",
    "HA = Our latency has not gone up since switching internet service providers\n",
    "\n",
    "- Is the website redesign any good?\n",
    "\n",
    "H0 = The website redesign's new banners does not change difficulty in navigating between categories\n",
    "\n",
    "HA = The website redesign's new banners make it easier to navigate between categories\n",
    "\n",
    "True Positive = The websites new banners make it easier to navigate\n",
    "\n",
    "True Negative = Websites diffuclty to navigate has not changed\n",
    "\n",
    "Type 1 = There has been no difficulty change where there is a change\n",
    "\n",
    "Type 2 = There has been no difficulty change where there is no change\n",
    "- Is our television ad driving more sales?\n",
    "\n",
    "H0 = The television ad does not affect sales\n",
    "\n",
    "HA = The television ad increased sales\n",
    "\n",
    "True Positive = The ad increased sales\n",
    "\n",
    "True Negative = The ad did not affect sales\n",
    "\n",
    "Type 1 = The ad caused sales go up, but they didn't\n",
    "\n",
    "Type 2 = The ad caused no change in sales, but sales increased"
   ]
  },
  {
   "cell_type": "markdown",
   "id": "529ce3c1",
   "metadata": {},
   "source": [
    "#  T-Test Exercises\n",
    "\n",
    "Continue working in your hypothesis_testing notebook.\n",
    "\n",
    "- Ace Realty wants to determine whether the average time it takes to sell homes is different for its two offices. A sample of 40 sales from office #1 revealed a mean of 90 days and a standard deviation of 15 days. A sample of 50 sales from office #2 revealed a mean of 100 days and a standard deviation of 20 days. Use a .05 level of significance.\n",
    "\n",
    "- Load the mpg dataset and use it to answer the following questions:\n",
    "\n",
    "    - Is there a difference in fuel-efficiency in cars from 2008 vs 1999?\n",
    "    - Are compact cars more fuel-efficient than the average car?\n",
    "    - Do manual cars get better gas mileage than automatic cars?"
   ]
  },
  {
   "cell_type": "code",
   "execution_count": 1,
   "id": "aac22a3e",
   "metadata": {},
   "outputs": [],
   "source": [
    "from scipy import stats\n",
    "import numpy as np\n",
    "import pandas as pd\n",
    "import seaborn as sns\n",
    "alpha = 0.5"
   ]
  },
  {
   "cell_type": "markdown",
   "id": "dcc7ca2b",
   "metadata": {},
   "source": [
    "### Ace Realty\n",
    "$H_{0}$: The time it takes to sell homes are the same\n",
    "\n",
    "$H_{a}$: The time it takes to sell homes are different"
   ]
  },
  {
   "cell_type": "code",
   "execution_count": 9,
   "id": "4a5c55c6",
   "metadata": {},
   "outputs": [
    {
     "data": {
      "text/plain": [
       "(2.6252287036468456, 0.005104926224619695, 0.5)"
      ]
     },
     "execution_count": 9,
     "metadata": {},
     "output_type": "execute_result"
    }
   ],
   "source": [
    "t, p = stats.ttest_ind_from_stats(100, 20, 50, 90, 15, 40)\n",
    "t, p/2, alpha"
   ]
  },
  {
   "cell_type": "code",
   "execution_count": 10,
   "id": "8179891b",
   "metadata": {},
   "outputs": [
    {
     "name": "stdout",
     "output_type": "stream",
     "text": [
      "We reject the null hypothesis\n"
     ]
    }
   ],
   "source": [
    "if (p/2 < alpha) & (t > 0):\n",
    "    print(\"We reject the null hypothesis\")\n",
    "else:\n",
    "    print(\"We fail to reject the null hypothesis\")"
   ]
  },
  {
   "cell_type": "code",
   "execution_count": null,
   "id": "5912fe8e",
   "metadata": {},
   "outputs": [],
   "source": []
  },
  {
   "cell_type": "markdown",
   "id": "244c2221",
   "metadata": {},
   "source": [
    "### MPG\n",
    "- Is there a difference in fuel-efficiency in cars from 2008 vs 1999?\n",
    "- Are compact cars more fuel-efficient than the average car?\n",
    "- Do manual cars get better gas mileage than automatic cars?"
   ]
  },
  {
   "cell_type": "code",
   "execution_count": null,
   "id": "dc749a24",
   "metadata": {},
   "outputs": [],
   "source": [
    "from pydataset import data\n",
    "mpg = data('mpg')"
   ]
  },
  {
   "cell_type": "code",
   "execution_count": null,
   "id": "c15e3116",
   "metadata": {},
   "outputs": [],
   "source": [
    "mpg"
   ]
  },
  {
   "cell_type": "markdown",
   "id": "a772cc30",
   "metadata": {},
   "source": [
    "### Fuel Efficiency:\n",
    "$H_{0}$: There is not a difference in fuel effiency in cars from 2008 vs 1999\n",
    "\n",
    "$H_{a}$: There is a difference in fuel efficiency in cars from 2008 vs 1999"
   ]
  },
  {
   "cell_type": "code",
   "execution_count": null,
   "id": "86c73d8a",
   "metadata": {},
   "outputs": [],
   "source": [
    "mpg['fuel_efficiency'] = mpg.cty + mpg.hwy / 2"
   ]
  },
  {
   "cell_type": "code",
   "execution_count": null,
   "id": "ec9a376d",
   "metadata": {},
   "outputs": [],
   "source": [
    "mpg_2008 = mpg[mpg.year == 2008].fuel_efficiency\n",
    "mpg_1999 = mpg[mpg.year == 1999].fuel_efficiency"
   ]
  },
  {
   "cell_type": "code",
   "execution_count": null,
   "id": "9d09fa78",
   "metadata": {},
   "outputs": [],
   "source": [
    "mpg_2008.var(), mpg_1999.var()"
   ]
  },
  {
   "cell_type": "code",
   "execution_count": null,
   "id": "b9ad6acd",
   "metadata": {},
   "outputs": [],
   "source": [
    "t, p = stats.ttest_ind(mpg_1999, mpg_2008, equal_var = False)\n",
    "\n",
    "t, p, alpha"
   ]
  },
  {
   "cell_type": "code",
   "execution_count": null,
   "id": "e787d208",
   "metadata": {},
   "outputs": [],
   "source": [
    "if (p/2 < alpha) & (t > 0):\n",
    "    print(\"We reject the null hypothesis\")\n",
    "else:\n",
    "    print(\"We fail to reject the null hypothesis\")"
   ]
  },
  {
   "cell_type": "markdown",
   "id": "55fc982a",
   "metadata": {},
   "source": [
    "### Compact vs Average\n",
    "$H_{0}$: Are compact cars efficiency = average car\n",
    "\n",
    "$H_{a}$: Are compact cars efficiency > average car"
   ]
  },
  {
   "cell_type": "code",
   "execution_count": null,
   "id": "4ae77c1c",
   "metadata": {},
   "outputs": [],
   "source": [
    "compact = mpg[mpg['class'] == 'compact'].fuel_efficiency\n",
    "avg_car_fe = mpg.fuel_efficiency"
   ]
  },
  {
   "cell_type": "code",
   "execution_count": null,
   "id": "6b7330c4",
   "metadata": {},
   "outputs": [],
   "source": [
    "t, p = stats.ttest_1samp(compact, avg_car_fe.mean())\n",
    "t, p, alpha"
   ]
  },
  {
   "cell_type": "code",
   "execution_count": null,
   "id": "26248f7c",
   "metadata": {},
   "outputs": [],
   "source": [
    "if (p/2 < alpha) & (t > 0):\n",
    "    print(\"We reject the null hypothesis\")\n",
    "else:\n",
    "    print(\"We fail to reject the null hypothesis\")"
   ]
  },
  {
   "cell_type": "markdown",
   "id": "52e45aea",
   "metadata": {},
   "source": [
    "### Do manual cars get better gas mileage than automatic cars?\n",
    "$H_{0}$: Are manual cars efficiency = average car\n",
    "\n",
    "$H_{a}$: Are manual cars efficiency > average car"
   ]
  },
  {
   "cell_type": "code",
   "execution_count": null,
   "id": "e38fc9fe",
   "metadata": {},
   "outputs": [],
   "source": [
    "manual = mpg[mpg.trans.str.startswith('m')].fuel_efficiency\n",
    "automatic = mpg[mpg.trans.str.startswith('a')].fuel_efficiency"
   ]
  },
  {
   "cell_type": "code",
   "execution_count": null,
   "id": "dbde4405",
   "metadata": {},
   "outputs": [],
   "source": [
    "manual.var(), automatic.var()"
   ]
  },
  {
   "cell_type": "code",
   "execution_count": null,
   "id": "d5a9a267",
   "metadata": {},
   "outputs": [],
   "source": [
    "t, p = stats.ttest_ind(manual, automatic, equal_var = False)\n",
    "t, p, alpha"
   ]
  },
  {
   "cell_type": "code",
   "execution_count": null,
   "id": "4f566e76",
   "metadata": {},
   "outputs": [],
   "source": [
    "if (p/2 < alpha) & (t > 0):\n",
    "    print(\"We reject the null hypothesis\")\n",
    "else:\n",
    "    print(\"We fail to reject the null hypothesis\")"
   ]
  },
  {
   "cell_type": "code",
   "execution_count": null,
   "id": "e267963e",
   "metadata": {},
   "outputs": [],
   "source": []
  }
 ],
 "metadata": {
  "kernelspec": {
   "display_name": "Python 3",
   "language": "python",
   "name": "python3"
  },
  "language_info": {
   "codemirror_mode": {
    "name": "ipython",
    "version": 3
   },
   "file_extension": ".py",
   "mimetype": "text/x-python",
   "name": "python",
   "nbconvert_exporter": "python",
   "pygments_lexer": "ipython3",
   "version": "3.8.8"
  }
 },
 "nbformat": 4,
 "nbformat_minor": 5
}
