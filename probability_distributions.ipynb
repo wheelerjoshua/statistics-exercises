{
 "cells": [
  {
   "cell_type": "code",
   "execution_count": 1,
   "id": "5581a1de",
   "metadata": {},
   "outputs": [],
   "source": [
    "import matplotlib.pyplot as plt\n",
    "import numpy as np\n",
    "import pandas as pd\n",
    "from scipy import stats"
   ]
  },
  {
   "cell_type": "markdown",
   "id": "525087a4",
   "metadata": {},
   "source": [
    "# Exercises\n",
    "1. A bank found that the average number of cars waiting during the noon hour at a drive-up window follows a Poisson distribution with a mean of 2 cars. Make a chart of this distribution and answer these questions concerning the probability of cars waiting at the drive-up window.\n",
    "\n",
    "- What is the probability that no cars drive up in the noon hour?\n",
    "- What is the probability that 3 or more cars come through the drive through?\n",
    "- How likely is it that the drive through gets at least 1 car?\n",
    "2. Grades of State University graduates are normally distributed with a mean of 3.0 and a standard deviation of .3. Calculate the following:\n",
    "\n",
    "- What grade point average is required to be in the top 5% of the graduating class?\n",
    "- What GPA constitutes the bottom 15% of the class?\n",
    "- An eccentric alumnus left scholarship money for students in the third decile from the bottom of their class. Determine the range of the third decile. Would a student with a 2.8 grade point average qualify for this scholarship?\n",
    "- If I have a GPA of 3.5, what percentile am I in?\n",
    "3. A marketing website has an average click-through rate of 2%. One day they observe 4326 visitors and 97 click-throughs. How likely is it that this many people or more click through?\n",
    "\n",
    "4. You are working on some statistics homework consisting of 100 questions where all of the answers are a probability rounded to the hundreths place. Looking to save time, you put down random probabilities as the answer to each question.\n",
    "\n",
    "- What is the probability that at least one of your first 60 answers is correct?\n",
    "5. The codeup staff tends to get upset when the student break area is not cleaned up. Suppose that there's a 3% chance that any one student cleans the break area when they visit it, and, on any given day, about 90% of the 3 active cohorts of 22 students visit the break area. How likely is it that the break area gets cleaned up each day? How likely is it that it goes two days without getting cleaned up? All week?\n",
    "\n",
    "\n",
    "6. You want to get lunch at La Panaderia, but notice that the line is usually very long at lunchtime. After several weeks of careful observation, you notice that the average number of people in line when your lunch break starts is normally distributed with a mean of 15 and standard deviation of 3. If it takes 2 minutes for each person to order, and 10 minutes from ordering to getting your food, what is the likelihood that you have at least 15 minutes left to eat your food before you have to go back to class? Assume you have one hour for lunch, and ignore travel time to and from La Panaderia.\n",
    "\n",
    "\n",
    "7. Connect to the employees database and find the average salary of current employees, along with the standard deviation. For the following questions, calculate the answer based on modeling the employees salaries with a normal distribution defined by the calculated mean and standard deviation then compare this answer to the actual values present in the salaries dataset.\n",
    "\n",
    "  a. What percent of employees earn less than 60,000?\n",
    "  \n",
    "  b. What percent of employees earn more than 95,000?\n",
    "  \n",
    "  c. What percent of employees earn between 65,000 and 80,000?\n",
    "  \n",
    "  d. What do the top 5% of employees make?\n",
    "\n",
    "\n",
    "Hint If you're looking at this exercise and wondering \"How do I get pandas to talk the database, again?\", remember that you'll need 3 things: your .gitignore, your env.py, and to use pd.read_sql.\n",
    "\n",
    "Be sure to run the following 2 commands from your terminal: 1. cp ~/codeup-data-science/numpy-pandas-visualization-exercises/.gitignore ~/codeup-data-science/statistics-exercises to ensure that your stats repo has a known-good gitignore 2. cp ~/codeup-data-science/numpy-pandas-exercises/env.py ~/codeup-data-science/statistics-exercises to ensure that pandas will have access to your db credentials."
   ]
  },
  {
   "cell_type": "markdown",
   "id": "8c531885",
   "metadata": {},
   "source": [
    "### 1. A bank found that the average number of cars waiting during the noon hour at a drive-up window follows a Poisson distribution with a mean of 2 cars. Make a chart of this distribution and answer these questions concerning the probability of cars waiting at the drive-up window.\n"
   ]
  },
  {
   "cell_type": "code",
   "execution_count": 2,
   "id": "2f3347b5",
   "metadata": {},
   "outputs": [
    {
     "data": {
      "text/plain": [
       "<BarContainer object of 30 artists>"
      ]
     },
     "execution_count": 2,
     "metadata": {},
     "output_type": "execute_result"
    },
    {
     "data": {
      "image/png": "[encoded data removed]",
      "text/plain": [
       "<Figure size 432x288 with 1 Axes>"
      ]
     },
     "metadata": {
      "needs_background": "light"
     },
     "output_type": "display_data"
    }
   ],
   "source": [
    "λ = 2 #cars waiting at noon\n",
    "x = np.arange(0,30)\n",
    "y = stats.poisson(λ).pmf(x)\n",
    "\n",
    "plt.bar(x,y)"
   ]
  },
  {
   "cell_type": "markdown",
   "id": "b904c933",
   "metadata": {},
   "source": [
    "### What is the probability that no cars drive up in the noon hour?\n"
   ]
  },
  {
   "cell_type": "code",
   "execution_count": 3,
   "id": "28173f47",
   "metadata": {},
   "outputs": [
    {
     "data": {
      "text/plain": [
       "0.1353352832366127"
      ]
     },
     "execution_count": 3,
     "metadata": {},
     "output_type": "execute_result"
    }
   ],
   "source": [
    "stats.poisson(λ).pmf(0)"
   ]
  },
  {
   "cell_type": "markdown",
   "id": "454a9e0e",
   "metadata": {},
   "source": [
    "### What is the probability that 3 or more cars come through the drive through?\n"
   ]
  },
  {
   "cell_type": "code",
   "execution_count": 4,
   "id": "b843f9c9",
   "metadata": {},
   "outputs": [
    {
     "data": {
      "text/plain": [
       "0.32332358381693654"
      ]
     },
     "execution_count": 4,
     "metadata": {},
     "output_type": "execute_result"
    }
   ],
   "source": [
    "stats.poisson(λ).sf(2)"
   ]
  },
  {
   "cell_type": "markdown",
   "id": "afa233a0",
   "metadata": {},
   "source": [
    "### How likely is it that the drive through gets at least 1 car?"
   ]
  },
  {
   "cell_type": "code",
   "execution_count": 5,
   "id": "007dd7e1",
   "metadata": {},
   "outputs": [
    {
     "data": {
      "text/plain": [
       "0.8646647167633873"
      ]
     },
     "execution_count": 5,
     "metadata": {},
     "output_type": "execute_result"
    }
   ],
   "source": [
    "stats.poisson(λ).sf(0)"
   ]
  },
  {
   "cell_type": "markdown",
   "id": "8a54953d",
   "metadata": {},
   "source": [
    "### 2. Grades of State University graduates are normally distributed with a mean of 3.0 and a standard deviation of .3. Calculate the following:\n"
   ]
  },
  {
   "cell_type": "code",
   "execution_count": 6,
   "id": "6fddc81a",
   "metadata": {},
   "outputs": [],
   "source": [
    "grades = stats.norm(3,0.3)"
   ]
  },
  {
   "cell_type": "markdown",
   "id": "d16f7ed0",
   "metadata": {},
   "source": [
    "\n",
    "### What grade point average is required to be in the top 5% of the graduating class?\n"
   ]
  },
  {
   "cell_type": "code",
   "execution_count": 7,
   "id": "d5db37e5",
   "metadata": {},
   "outputs": [
    {
     "data": {
      "text/plain": [
       "3.0"
      ]
     },
     "execution_count": 7,
     "metadata": {},
     "output_type": "execute_result"
    }
   ],
   "source": [
    "grades.isf(0.5)"
   ]
  },
  {
   "cell_type": "markdown",
   "id": "24920c2c",
   "metadata": {},
   "source": [
    "### What GPA constitutes the bottom 15% of the class?\n"
   ]
  },
  {
   "cell_type": "code",
   "execution_count": 8,
   "id": "b94b1e5a",
   "metadata": {},
   "outputs": [
    {
     "data": {
      "text/plain": [
       "1.0"
      ]
     },
     "execution_count": 8,
     "metadata": {},
     "output_type": "execute_result"
    }
   ],
   "source": [
    "grades.sf(.15)"
   ]
  },
  {
   "cell_type": "markdown",
   "id": "d9e55966",
   "metadata": {},
   "source": [
    "### An eccentric alumnus left scholarship money for students in the third decile from the bottom of their class. Determine the range of the third decile. Would a student with a 2.8 grade point average qualify for this scholarship?\n"
   ]
  },
  {
   "cell_type": "code",
   "execution_count": 9,
   "id": "79cc269a",
   "metadata": {},
   "outputs": [
    {
     "data": {
      "text/plain": [
       "1.0"
      ]
     },
     "execution_count": 9,
     "metadata": {},
     "output_type": "execute_result"
    }
   ],
   "source": [
    "grades.sf(.3)"
   ]
  },
  {
   "cell_type": "markdown",
   "id": "9c33d4ae",
   "metadata": {},
   "source": [
    "### If I have a GPA of 3.5, what percentile am I in?"
   ]
  },
  {
   "cell_type": "code",
   "execution_count": 10,
   "id": "dea2de07",
   "metadata": {},
   "outputs": [
    {
     "data": {
      "text/plain": [
       "0.9522096477271853"
      ]
     },
     "execution_count": 10,
     "metadata": {},
     "output_type": "execute_result"
    }
   ],
   "source": [
    "grades.cdf(3.5)"
   ]
  },
  {
   "cell_type": "markdown",
   "id": "a450156f",
   "metadata": {},
   "source": [
    "### 3. A marketing website has an average click-through rate of 2%. One day they observe 4326 visitors and 97 click-throughs. How likely is it that this many people or more click through?\n",
    "\n"
   ]
  },
  {
   "cell_type": "code",
   "execution_count": 11,
   "id": "83f09704",
   "metadata": {},
   "outputs": [
    {
     "data": {
      "text/plain": [
       "0.1397582363130086"
      ]
     },
     "execution_count": 11,
     "metadata": {},
     "output_type": "execute_result"
    }
   ],
   "source": [
    "trials = 4326\n",
    "p = 0.02\n",
    "stats.binom(trials, p).sf(96)"
   ]
  },
  {
   "cell_type": "markdown",
   "id": "97f47cc6",
   "metadata": {},
   "source": [
    "### 4. You are working on some statistics homework consisting of 100 questions where all of the answers are a probability rounded to the hundreths place. Looking to save time, you put down random probabilities as the answer to each question.\n"
   ]
  },
  {
   "cell_type": "code",
   "execution_count": 12,
   "id": "bbcceee4",
   "metadata": {},
   "outputs": [],
   "source": [
    "trials = 100\n",
    "p = 0.01"
   ]
  },
  {
   "cell_type": "markdown",
   "id": "10d93385",
   "metadata": {},
   "source": [
    "### What is the probability that at least one of your first 60 answers is correct?"
   ]
  },
  {
   "cell_type": "code",
   "execution_count": 13,
   "id": "2b2ff5ee",
   "metadata": {},
   "outputs": [
    {
     "data": {
      "text/plain": [
       "0.9999999999999999"
      ]
     },
     "execution_count": 13,
     "metadata": {},
     "output_type": "execute_result"
    }
   ],
   "source": [
    "stats.binom(trials, p).cdf(60)"
   ]
  },
  {
   "cell_type": "markdown",
   "id": "398c59e0",
   "metadata": {},
   "source": [
    "### 5. The codeup staff tends to get upset when the student break area is not cleaned up. Suppose that there's a 3% chance that any one student cleans the break area when they visit it, and, on any given day, about 90% of the 3 active cohorts of 22 students visit the break area. How likely is it that the break area gets cleaned up each day? How likely is it that it goes two days without getting cleaned up? All week?"
   ]
  },
  {
   "cell_type": "code",
   "execution_count": 14,
   "id": "04b054b5",
   "metadata": {},
   "outputs": [
    {
     "data": {
      "text/plain": [
       "0.5317140258060139"
      ]
     },
     "execution_count": 14,
     "metadata": {},
     "output_type": "execute_result"
    }
   ],
   "source": [
    "trials = round((3 * 22) * .9)\n",
    "p = 0.03\n",
    "\n",
    "stats.binom(trials, p).sf(1)"
   ]
  },
  {
   "cell_type": "code",
   "execution_count": 15,
   "id": "6f0ea68a",
   "metadata": {},
   "outputs": [
    {
     "data": {
      "text/plain": [
       "<BarContainer object of 30 artists>"
      ]
     },
     "execution_count": 15,
     "metadata": {},
     "output_type": "execute_result"
    },
    {
     "data": {
      "image/png": "[encoded data removed]",
      "text/plain": [
       "<Figure size 432x288 with 1 Axes>"
      ]
     },
     "metadata": {
      "needs_background": "light"
     },
     "output_type": "display_data"
    }
   ],
   "source": [
    "x = range(0,30)\n",
    "y = stats.binom(trials, p).pmf(x)\n",
    "plt.bar(x,y)"
   ]
  },
  {
   "cell_type": "code",
   "execution_count": 16,
   "id": "269830ba",
   "metadata": {},
   "outputs": [
    {
     "data": {
      "text/plain": [
       "0.02748303199257622"
      ]
     },
     "execution_count": 16,
     "metadata": {},
     "output_type": "execute_result"
    }
   ],
   "source": [
    "stats.binom(trials * 2, p).pmf(0)"
   ]
  },
  {
   "cell_type": "code",
   "execution_count": 17,
   "id": "d386ae3a",
   "metadata": {},
   "outputs": [
    {
     "data": {
      "text/plain": [
       "0.00012521651388091353"
      ]
     },
     "execution_count": 17,
     "metadata": {},
     "output_type": "execute_result"
    }
   ],
   "source": [
    "stats.binom(trials * 5, p).pmf(0)"
   ]
  },
  {
   "cell_type": "markdown",
   "id": "db8ae442",
   "metadata": {},
   "source": [
    "### 6. You want to get lunch at La Panaderia, but notice that the line is usually very long at lunchtime. After several weeks of careful observation, you notice that the average number of people in line when your lunch break starts is normally distributed with a mean of 15 and standard deviation of 3. If it takes 2 minutes for each person to order, and 10 minutes from ordering to getting your food, what is the likelihood that you have at least 15 minutes left to eat your food before you have to go back to class? Assume you have one hour for lunch, and ignore travel time to and from La Panaderia."
   ]
  },
  {
   "cell_type": "code",
   "execution_count": 18,
   "id": "5cd92658",
   "metadata": {},
   "outputs": [],
   "source": [
    "μ = 15 * 2\n",
    "σ = 3 * 2\n",
    "\n",
    "panaderia = stats.norm(μ, σ)\n"
   ]
  },
  {
   "cell_type": "code",
   "execution_count": 19,
   "id": "4d63331c",
   "metadata": {},
   "outputs": [
    {
     "data": {
      "text/plain": [
       "0.6914624612740131"
      ]
     },
     "execution_count": 19,
     "metadata": {},
     "output_type": "execute_result"
    }
   ],
   "source": [
    "panaderia.cdf(33)"
   ]
  },
  {
   "cell_type": "code",
   "execution_count": null,
   "id": "0d6f50f7",
   "metadata": {},
   "outputs": [],
   "source": []
  },
  {
   "cell_type": "markdown",
   "id": "c9c7585a",
   "metadata": {},
   "source": [
    "### 7. Connect to the employees database and find the average salary of current employees, along with the standard deviation. For the following questions, calculate the answer based on modeling the employees salaries with a normal distribution defined by the calculated mean and standard deviation then compare this answer to the actual values present in the salaries dataset.\n",
    "\n"
   ]
  },
  {
   "cell_type": "code",
   "execution_count": 20,
   "id": "4bb48724",
   "metadata": {},
   "outputs": [],
   "source": [
    "def get_db_url(db_name):\n",
    "    from env import host, user, password\n",
    "    return f'mysql+pymysql://{user}:{password}@{host}/{db_name}'\n",
    "employees_url = get_db_url('employees')"
   ]
  },
  {
   "cell_type": "code",
   "execution_count": 21,
   "id": "62db1d19",
   "metadata": {},
   "outputs": [],
   "source": [
    "employees_query = 'select * from salaries where to_date > curdate()'"
   ]
  },
  {
   "cell_type": "code",
   "execution_count": 22,
   "id": "37215986",
   "metadata": {},
   "outputs": [],
   "source": [
    "df = pd.read_sql(employees_query, employees_url)"
   ]
  },
  {
   "cell_type": "code",
   "execution_count": 23,
   "id": "f8d4354c",
   "metadata": {},
   "outputs": [
    {
     "data": {
      "text/plain": [
       "72012.23585730705"
      ]
     },
     "execution_count": 23,
     "metadata": {},
     "output_type": "execute_result"
    }
   ],
   "source": [
    "μ = df.salary.mean()\n",
    "μ"
   ]
  },
  {
   "cell_type": "code",
   "execution_count": 24,
   "id": "0619623e",
   "metadata": {},
   "outputs": [
    {
     "data": {
      "text/plain": [
       "17309.959336346747"
      ]
     },
     "execution_count": 24,
     "metadata": {},
     "output_type": "execute_result"
    }
   ],
   "source": [
    "σ = np.std(df.salary)\n",
    "σ"
   ]
  },
  {
   "cell_type": "code",
   "execution_count": 25,
   "id": "5000ad8a",
   "metadata": {},
   "outputs": [],
   "source": [
    "salary = stats.norm(μ, σ)"
   ]
  },
  {
   "cell_type": "markdown",
   "id": "ef635234",
   "metadata": {},
   "source": [
    "### a. What percent of employees earn less than 60,000?\n"
   ]
  },
  {
   "cell_type": "code",
   "execution_count": 26,
   "id": "3ad4970f",
   "metadata": {},
   "outputs": [
    {
     "data": {
      "text/plain": [
       "0.24385697169355336"
      ]
     },
     "execution_count": 26,
     "metadata": {},
     "output_type": "execute_result"
    }
   ],
   "source": [
    "salary.cdf(60_000)"
   ]
  },
  {
   "cell_type": "markdown",
   "id": "d6602c9b",
   "metadata": {},
   "source": [
    "### b. What percent of employees earn more than 95,000?\n"
   ]
  },
  {
   "cell_type": "code",
   "execution_count": 27,
   "id": "bb73a0ae",
   "metadata": {},
   "outputs": [
    {
     "data": {
      "text/plain": [
       "0.09208773524185987"
      ]
     },
     "execution_count": 27,
     "metadata": {},
     "output_type": "execute_result"
    }
   ],
   "source": [
    "salary.sf(95_000)"
   ]
  },
  {
   "cell_type": "markdown",
   "id": "e11c64f1",
   "metadata": {},
   "source": [
    "### c. What percent of employees earn between 65,000 and 80,000?\n"
   ]
  },
  {
   "cell_type": "code",
   "execution_count": 28,
   "id": "f29215cb",
   "metadata": {},
   "outputs": [
    {
     "data": {
      "text/plain": [
       "array([0.33506122])"
      ]
     },
     "execution_count": 28,
     "metadata": {},
     "output_type": "execute_result"
    }
   ],
   "source": [
    "np.diff(salary.cdf([65_000, 80_000]))"
   ]
  },
  {
   "cell_type": "markdown",
   "id": "27697ad5",
   "metadata": {},
   "source": [
    "### d. What do the top 5% of employees make?"
   ]
  },
  {
   "cell_type": "code",
   "execution_count": 29,
   "id": "33e8a2d8",
   "metadata": {},
   "outputs": [
    {
     "data": {
      "text/plain": [
       "100484.58525407952"
      ]
     },
     "execution_count": 29,
     "metadata": {},
     "output_type": "execute_result"
    }
   ],
   "source": [
    "salary.isf(.05)"
   ]
  },
  {
   "cell_type": "code",
   "execution_count": null,
   "id": "434d89d0",
   "metadata": {},
   "outputs": [],
   "source": []
  }
 ],
 "metadata": {
  "kernelspec": {
   "display_name": "Python 3",
   "language": "python",
   "name": "python3"
  },
  "language_info": {
   "codemirror_mode": {
    "name": "ipython",
    "version": 3
   },
   "file_extension": ".py",
   "mimetype": "text/x-python",
   "name": "python",
   "nbconvert_exporter": "python",
   "pygments_lexer": "ipython3",
   "version": "3.8.8"
  }
 },
 "nbformat": 4,
 "nbformat_minor": 5
}
