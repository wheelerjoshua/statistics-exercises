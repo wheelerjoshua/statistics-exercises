{
 "cells": [
  {
   "cell_type": "code",
   "execution_count": 1,
   "id": "9a56b119",
   "metadata": {},
   "outputs": [],
   "source": [
    "import numpy as np\n",
    "import pandas as pd"
   ]
  },
  {
   "cell_type": "markdown",
   "id": "c2441155",
   "metadata": {},
   "source": [
    "# Exercises\n",
    "\n",
    "1. How likely is it that you roll doubles when rolling two dice?\n",
    "\n",
    "2. If you flip 8 coins, what is the probability of getting exactly 3 heads? What is the probability of getting more than 3 heads?\n",
    "\n",
    "3. There are approximitely 3 web development cohorts for every 1 data science cohort at Codeup. Assuming that Codeup randomly selects an alumni to put on a billboard, what are the odds that the two billboards I drive past both have data science students on them?\n",
    "\n",
    "4. Codeup students buy, on average, 3 poptart packages with a standard deviation of 1.5 a day from the snack vending machine. If on monday the machine is restocked with 17 poptart packages, how likely is it that I will be able to buy some poptarts on Friday afternoon? (Remember, if you have mean and standard deviation, use the np.random.normal)\n",
    "\n",
    "5. Compare Heights\n",
    "\n",
    "- Men have an average height of 178 cm and standard deviation of 8cm.\n",
    "- Women have a mean of 170, sd = 6cm.\n",
    "- Since you have means and standard deviations, you can use np.random.normal to generate observations.\n",
    "- If a man and woman are chosen at random, P(woman taller than man)?\n",
    "\n",
    "6. When installing anaconda on a student's computer, there's a 1 in 250 chance that the download is corrupted and the installation fails. What are the odds that after having 50 students download anaconda, no one has an installation issue? 100 students?\n",
    "\n",
    "What is the probability that we observe an installation issue within the first 150 students that download anaconda?\n",
    "\n",
    "How likely is it that 450 students all download anaconda without an issue?\n",
    "\n",
    "7. There's a 70% chance on any given day that there will be at least one food truck at Travis Park. However, you haven't seen a food truck there in 3 days. How unlikely is this?\n",
    "\n",
    "8. How likely is it that a food truck will show up sometime this week?\n",
    "\n",
    "9. If 23 people are in the same room, what are the odds that two of them share a birthday? What if it's 20 people? 40?"
   ]
  },
  {
   "cell_type": "markdown",
   "id": "b4e697ae",
   "metadata": {},
   "source": [
    "### 1. How likely is it that you roll doubles when rolling two dice?"
   ]
  },
  {
   "cell_type": "code",
   "execution_count": 2,
   "id": "46f802cf",
   "metadata": {},
   "outputs": [
    {
     "data": {
      "text/plain": [
       "0.1635"
      ]
     },
     "execution_count": 2,
     "metadata": {},
     "output_type": "execute_result"
    }
   ],
   "source": [
    "die1 = np.random.choice([1, 2, 3, 4, 5 ,6], 10_000)\n",
    "die2 = np.random.choice([1, 2, 3, 4, 5, 6], 10_000)\n",
    "\n",
    "samesies = die1 == die2\n",
    "samesies.mean()"
   ]
  },
  {
   "cell_type": "markdown",
   "id": "7d59560c",
   "metadata": {},
   "source": [
    "### 2. If you flip 8 coins, what is the probability of getting exactly 3 heads? What is the probability of getting more than 3 heads?"
   ]
  },
  {
   "cell_type": "code",
   "execution_count": 3,
   "id": "1c8e7959",
   "metadata": {},
   "outputs": [
    {
     "data": {
      "text/html": [
       "<div>\n",
       "<style scoped>\n",
       "    .dataframe tbody tr th:only-of-type {\n",
       "        vertical-align: middle;\n",
       "    }\n",
       "\n",
       "    .dataframe tbody tr th {\n",
       "        vertical-align: top;\n",
       "    }\n",
       "\n",
       "    .dataframe thead th {\n",
       "        text-align: right;\n",
       "    }\n",
       "</style>\n",
       "<table border=\"1\" class=\"dataframe\">\n",
       "  <thead>\n",
       "    <tr style=\"text-align: right;\">\n",
       "      <th></th>\n",
       "      <th>0</th>\n",
       "      <th>1</th>\n",
       "      <th>2</th>\n",
       "      <th>3</th>\n",
       "      <th>4</th>\n",
       "      <th>5</th>\n",
       "      <th>6</th>\n",
       "      <th>7</th>\n",
       "    </tr>\n",
       "  </thead>\n",
       "  <tbody>\n",
       "    <tr>\n",
       "      <th>0</th>\n",
       "      <td>0</td>\n",
       "      <td>1</td>\n",
       "      <td>0</td>\n",
       "      <td>0</td>\n",
       "      <td>1</td>\n",
       "      <td>0</td>\n",
       "      <td>1</td>\n",
       "      <td>1</td>\n",
       "    </tr>\n",
       "    <tr>\n",
       "      <th>1</th>\n",
       "      <td>1</td>\n",
       "      <td>0</td>\n",
       "      <td>0</td>\n",
       "      <td>1</td>\n",
       "      <td>0</td>\n",
       "      <td>0</td>\n",
       "      <td>0</td>\n",
       "      <td>1</td>\n",
       "    </tr>\n",
       "    <tr>\n",
       "      <th>2</th>\n",
       "      <td>1</td>\n",
       "      <td>0</td>\n",
       "      <td>0</td>\n",
       "      <td>0</td>\n",
       "      <td>0</td>\n",
       "      <td>1</td>\n",
       "      <td>0</td>\n",
       "      <td>1</td>\n",
       "    </tr>\n",
       "    <tr>\n",
       "      <th>3</th>\n",
       "      <td>1</td>\n",
       "      <td>0</td>\n",
       "      <td>0</td>\n",
       "      <td>1</td>\n",
       "      <td>0</td>\n",
       "      <td>1</td>\n",
       "      <td>0</td>\n",
       "      <td>0</td>\n",
       "    </tr>\n",
       "    <tr>\n",
       "      <th>4</th>\n",
       "      <td>1</td>\n",
       "      <td>1</td>\n",
       "      <td>0</td>\n",
       "      <td>1</td>\n",
       "      <td>0</td>\n",
       "      <td>0</td>\n",
       "      <td>0</td>\n",
       "      <td>1</td>\n",
       "    </tr>\n",
       "    <tr>\n",
       "      <th>...</th>\n",
       "      <td>...</td>\n",
       "      <td>...</td>\n",
       "      <td>...</td>\n",
       "      <td>...</td>\n",
       "      <td>...</td>\n",
       "      <td>...</td>\n",
       "      <td>...</td>\n",
       "      <td>...</td>\n",
       "    </tr>\n",
       "    <tr>\n",
       "      <th>99995</th>\n",
       "      <td>1</td>\n",
       "      <td>1</td>\n",
       "      <td>0</td>\n",
       "      <td>0</td>\n",
       "      <td>0</td>\n",
       "      <td>0</td>\n",
       "      <td>0</td>\n",
       "      <td>1</td>\n",
       "    </tr>\n",
       "    <tr>\n",
       "      <th>99996</th>\n",
       "      <td>0</td>\n",
       "      <td>0</td>\n",
       "      <td>0</td>\n",
       "      <td>1</td>\n",
       "      <td>1</td>\n",
       "      <td>1</td>\n",
       "      <td>1</td>\n",
       "      <td>1</td>\n",
       "    </tr>\n",
       "    <tr>\n",
       "      <th>99997</th>\n",
       "      <td>1</td>\n",
       "      <td>0</td>\n",
       "      <td>0</td>\n",
       "      <td>0</td>\n",
       "      <td>1</td>\n",
       "      <td>1</td>\n",
       "      <td>1</td>\n",
       "      <td>0</td>\n",
       "    </tr>\n",
       "    <tr>\n",
       "      <th>99998</th>\n",
       "      <td>1</td>\n",
       "      <td>1</td>\n",
       "      <td>0</td>\n",
       "      <td>0</td>\n",
       "      <td>1</td>\n",
       "      <td>1</td>\n",
       "      <td>1</td>\n",
       "      <td>1</td>\n",
       "    </tr>\n",
       "    <tr>\n",
       "      <th>99999</th>\n",
       "      <td>1</td>\n",
       "      <td>1</td>\n",
       "      <td>0</td>\n",
       "      <td>0</td>\n",
       "      <td>0</td>\n",
       "      <td>0</td>\n",
       "      <td>0</td>\n",
       "      <td>0</td>\n",
       "    </tr>\n",
       "  </tbody>\n",
       "</table>\n",
       "<p>100000 rows × 8 columns</p>\n",
       "</div>"
      ],
      "text/plain": [
       "       0  1  2  3  4  5  6  7\n",
       "0      0  1  0  0  1  0  1  1\n",
       "1      1  0  0  1  0  0  0  1\n",
       "2      1  0  0  0  0  1  0  1\n",
       "3      1  0  0  1  0  1  0  0\n",
       "4      1  1  0  1  0  0  0  1\n",
       "...   .. .. .. .. .. .. .. ..\n",
       "99995  1  1  0  0  0  0  0  1\n",
       "99996  0  0  0  1  1  1  1  1\n",
       "99997  1  0  0  0  1  1  1  0\n",
       "99998  1  1  0  0  1  1  1  1\n",
       "99999  1  1  0  0  0  0  0  0\n",
       "\n",
       "[100000 rows x 8 columns]"
      ]
     },
     "execution_count": 3,
     "metadata": {},
     "output_type": "execute_result"
    }
   ],
   "source": [
    "# Set up how many coin flip sims\n",
    "n_coin_sim = n_rows = 10**5\n",
    "# How many coins to flip per sim\n",
    "n_coin_flipped = n_cols = 8\n",
    "\n",
    "#create df for sim\n",
    "flips = pd.DataFrame(np.random.choice([0, 1], n_rows*n_cols).reshape(n_rows,n_cols))\n",
    "flips"
   ]
  },
  {
   "cell_type": "code",
   "execution_count": 4,
   "id": "5f1481f4",
   "metadata": {},
   "outputs": [
    {
     "data": {
      "text/html": [
       "<div>\n",
       "<style scoped>\n",
       "    .dataframe tbody tr th:only-of-type {\n",
       "        vertical-align: middle;\n",
       "    }\n",
       "\n",
       "    .dataframe tbody tr th {\n",
       "        vertical-align: top;\n",
       "    }\n",
       "\n",
       "    .dataframe thead th {\n",
       "        text-align: right;\n",
       "    }\n",
       "</style>\n",
       "<table border=\"1\" class=\"dataframe\">\n",
       "  <thead>\n",
       "    <tr style=\"text-align: right;\">\n",
       "      <th></th>\n",
       "      <th>0</th>\n",
       "      <th>1</th>\n",
       "      <th>2</th>\n",
       "      <th>3</th>\n",
       "      <th>4</th>\n",
       "      <th>5</th>\n",
       "      <th>6</th>\n",
       "      <th>7</th>\n",
       "      <th>total_heads</th>\n",
       "    </tr>\n",
       "  </thead>\n",
       "  <tbody>\n",
       "    <tr>\n",
       "      <th>0</th>\n",
       "      <td>0</td>\n",
       "      <td>1</td>\n",
       "      <td>0</td>\n",
       "      <td>0</td>\n",
       "      <td>1</td>\n",
       "      <td>0</td>\n",
       "      <td>1</td>\n",
       "      <td>1</td>\n",
       "      <td>4</td>\n",
       "    </tr>\n",
       "    <tr>\n",
       "      <th>1</th>\n",
       "      <td>1</td>\n",
       "      <td>0</td>\n",
       "      <td>0</td>\n",
       "      <td>1</td>\n",
       "      <td>0</td>\n",
       "      <td>0</td>\n",
       "      <td>0</td>\n",
       "      <td>1</td>\n",
       "      <td>3</td>\n",
       "    </tr>\n",
       "    <tr>\n",
       "      <th>2</th>\n",
       "      <td>1</td>\n",
       "      <td>0</td>\n",
       "      <td>0</td>\n",
       "      <td>0</td>\n",
       "      <td>0</td>\n",
       "      <td>1</td>\n",
       "      <td>0</td>\n",
       "      <td>1</td>\n",
       "      <td>3</td>\n",
       "    </tr>\n",
       "    <tr>\n",
       "      <th>3</th>\n",
       "      <td>1</td>\n",
       "      <td>0</td>\n",
       "      <td>0</td>\n",
       "      <td>1</td>\n",
       "      <td>0</td>\n",
       "      <td>1</td>\n",
       "      <td>0</td>\n",
       "      <td>0</td>\n",
       "      <td>3</td>\n",
       "    </tr>\n",
       "    <tr>\n",
       "      <th>4</th>\n",
       "      <td>1</td>\n",
       "      <td>1</td>\n",
       "      <td>0</td>\n",
       "      <td>1</td>\n",
       "      <td>0</td>\n",
       "      <td>0</td>\n",
       "      <td>0</td>\n",
       "      <td>1</td>\n",
       "      <td>4</td>\n",
       "    </tr>\n",
       "    <tr>\n",
       "      <th>...</th>\n",
       "      <td>...</td>\n",
       "      <td>...</td>\n",
       "      <td>...</td>\n",
       "      <td>...</td>\n",
       "      <td>...</td>\n",
       "      <td>...</td>\n",
       "      <td>...</td>\n",
       "      <td>...</td>\n",
       "      <td>...</td>\n",
       "    </tr>\n",
       "    <tr>\n",
       "      <th>99995</th>\n",
       "      <td>1</td>\n",
       "      <td>1</td>\n",
       "      <td>0</td>\n",
       "      <td>0</td>\n",
       "      <td>0</td>\n",
       "      <td>0</td>\n",
       "      <td>0</td>\n",
       "      <td>1</td>\n",
       "      <td>3</td>\n",
       "    </tr>\n",
       "    <tr>\n",
       "      <th>99996</th>\n",
       "      <td>0</td>\n",
       "      <td>0</td>\n",
       "      <td>0</td>\n",
       "      <td>1</td>\n",
       "      <td>1</td>\n",
       "      <td>1</td>\n",
       "      <td>1</td>\n",
       "      <td>1</td>\n",
       "      <td>5</td>\n",
       "    </tr>\n",
       "    <tr>\n",
       "      <th>99997</th>\n",
       "      <td>1</td>\n",
       "      <td>0</td>\n",
       "      <td>0</td>\n",
       "      <td>0</td>\n",
       "      <td>1</td>\n",
       "      <td>1</td>\n",
       "      <td>1</td>\n",
       "      <td>0</td>\n",
       "      <td>4</td>\n",
       "    </tr>\n",
       "    <tr>\n",
       "      <th>99998</th>\n",
       "      <td>1</td>\n",
       "      <td>1</td>\n",
       "      <td>0</td>\n",
       "      <td>0</td>\n",
       "      <td>1</td>\n",
       "      <td>1</td>\n",
       "      <td>1</td>\n",
       "      <td>1</td>\n",
       "      <td>6</td>\n",
       "    </tr>\n",
       "    <tr>\n",
       "      <th>99999</th>\n",
       "      <td>1</td>\n",
       "      <td>1</td>\n",
       "      <td>0</td>\n",
       "      <td>0</td>\n",
       "      <td>0</td>\n",
       "      <td>0</td>\n",
       "      <td>0</td>\n",
       "      <td>0</td>\n",
       "      <td>2</td>\n",
       "    </tr>\n",
       "  </tbody>\n",
       "</table>\n",
       "<p>100000 rows × 9 columns</p>\n",
       "</div>"
      ],
      "text/plain": [
       "       0  1  2  3  4  5  6  7  total_heads\n",
       "0      0  1  0  0  1  0  1  1            4\n",
       "1      1  0  0  1  0  0  0  1            3\n",
       "2      1  0  0  0  0  1  0  1            3\n",
       "3      1  0  0  1  0  1  0  0            3\n",
       "4      1  1  0  1  0  0  0  1            4\n",
       "...   .. .. .. .. .. .. .. ..          ...\n",
       "99995  1  1  0  0  0  0  0  1            3\n",
       "99996  0  0  0  1  1  1  1  1            5\n",
       "99997  1  0  0  0  1  1  1  0            4\n",
       "99998  1  1  0  0  1  1  1  1            6\n",
       "99999  1  1  0  0  0  0  0  0            2\n",
       "\n",
       "[100000 rows x 9 columns]"
      ]
     },
     "execution_count": 4,
     "metadata": {},
     "output_type": "execute_result"
    }
   ],
   "source": [
    "# create column totaling number of heads per row\n",
    "flips['total_heads'] = flips.sum(axis=1)\n",
    "flips"
   ]
  },
  {
   "cell_type": "code",
   "execution_count": 5,
   "id": "17d90b13",
   "metadata": {},
   "outputs": [
    {
     "data": {
      "text/plain": [
       "0.21844"
      ]
     },
     "execution_count": 5,
     "metadata": {},
     "output_type": "execute_result"
    }
   ],
   "source": [
    "# Probability of getting 3 heads in 8 flips\n",
    "(flips.total_heads == 3).mean()"
   ]
  },
  {
   "cell_type": "code",
   "execution_count": 165,
   "id": "94db04d5",
   "metadata": {},
   "outputs": [
    {
     "data": {
      "text/plain": [
       "0.63515"
      ]
     },
     "execution_count": 165,
     "metadata": {},
     "output_type": "execute_result"
    }
   ],
   "source": [
    "# Probability of getting more than 3 heads in 8 flips\n",
    "(flips.total_heads > 3).mean()"
   ]
  },
  {
   "cell_type": "markdown",
   "id": "bf8cd4f8",
   "metadata": {},
   "source": [
    "### 3. There are approximitely 3 web development cohorts for every 1 data science cohort at Codeup. Assuming that Codeup randomly selects an alumni to put on a billboard, what are the odds that the two billboards I drive past both have data science students on them?"
   ]
  },
  {
   "cell_type": "code",
   "execution_count": 175,
   "id": "069f8343",
   "metadata": {},
   "outputs": [],
   "source": [
    "# Odds of data science from all cohorts\n",
    "ds_to_cohorts = 1/4\n",
    "# Number of chances\n",
    "billboards = ncols = 2\n",
    "# Number of sims\n",
    "n_simulated_drives = nrows = 10**5\n",
    "# Create array of simulations\n",
    "drives = np.random.random((nrows, ncols))"
   ]
  },
  {
   "cell_type": "code",
   "execution_count": 176,
   "id": "65d099de",
   "metadata": {},
   "outputs": [
    {
     "data": {
      "text/plain": [
       "array([[False,  True],\n",
       "       [False, False],\n",
       "       [False, False],\n",
       "       ...,\n",
       "       [False, False],\n",
       "       [False, False],\n",
       "       [False, False]])"
      ]
     },
     "execution_count": 176,
     "metadata": {},
     "output_type": "execute_result"
    }
   ],
   "source": [
    "# Create array of booleans where sim is a data science alumn\n",
    "ds_billboard = drives < ds_to_cohorts\n",
    "ds_billboard"
   ]
  },
  {
   "cell_type": "code",
   "execution_count": 177,
   "id": "f1d92a0a",
   "metadata": {},
   "outputs": [
    {
     "data": {
      "text/plain": [
       "0.06212"
      ]
     },
     "execution_count": 177,
     "metadata": {},
     "output_type": "execute_result"
    }
   ],
   "source": [
    "# mean of data science students being on both billboards\n",
    "(ds_billboard.sum(axis=1) == 2).mean()"
   ]
  },
  {
   "cell_type": "markdown",
   "id": "8bea4403",
   "metadata": {},
   "source": [
    "### 4. Codeup students buy, on average, 3 poptart packages with a standard deviation of 1.5 a day from the snack vending machine. If on monday the machine is restocked with 17 poptart packages, how likely is it that I will be able to buy some poptarts on Friday afternoon? (Remember, if you have mean and standard deviation, use the np.random.normal)"
   ]
  },
  {
   "cell_type": "code",
   "execution_count": 182,
   "id": "e19394fa",
   "metadata": {},
   "outputs": [
    {
     "data": {
      "text/plain": [
       "0.88238"
      ]
     },
     "execution_count": 182,
     "metadata": {},
     "output_type": "execute_result"
    }
   ],
   "source": [
    "# create dataframe of 3 snacks a day with 1.5 std dev and 5 days in the week, sim'd 100k times\n",
    "pop_tarts_sold = pd.DataFrame(np.random.normal(3,1.5, size = (100_000, 5)).astype(int))\n",
    "(pop_tarts_sold.sum(axis=1) < 17).mean()"
   ]
  },
  {
   "cell_type": "markdown",
   "id": "b647c007",
   "metadata": {},
   "source": [
    "### 5. Compare Heights\n",
    "\n",
    "- Men have an average height of 178 cm and standard deviation of 8cm.\n",
    "- Women have a mean of 170, sd = 6cm.\n",
    "- Since you have means and standard deviations, you can use np.random.normal to generate observations.\n",
    "- If a man and woman are chosen at random, P(woman taller than man)?"
   ]
  },
  {
   "cell_type": "code",
   "execution_count": 188,
   "id": "d6ed398f",
   "metadata": {},
   "outputs": [
    {
     "data": {
      "text/html": [
       "<div>\n",
       "<style scoped>\n",
       "    .dataframe tbody tr th:only-of-type {\n",
       "        vertical-align: middle;\n",
       "    }\n",
       "\n",
       "    .dataframe tbody tr th {\n",
       "        vertical-align: top;\n",
       "    }\n",
       "\n",
       "    .dataframe thead th {\n",
       "        text-align: right;\n",
       "    }\n",
       "</style>\n",
       "<table border=\"1\" class=\"dataframe\">\n",
       "  <thead>\n",
       "    <tr style=\"text-align: right;\">\n",
       "      <th></th>\n",
       "      <th>men_height</th>\n",
       "      <th>women_height</th>\n",
       "    </tr>\n",
       "  </thead>\n",
       "  <tbody>\n",
       "    <tr>\n",
       "      <th>0</th>\n",
       "      <td>177.606554</td>\n",
       "      <td>167.620293</td>\n",
       "    </tr>\n",
       "    <tr>\n",
       "      <th>1</th>\n",
       "      <td>185.819193</td>\n",
       "      <td>161.660646</td>\n",
       "    </tr>\n",
       "    <tr>\n",
       "      <th>2</th>\n",
       "      <td>170.798919</td>\n",
       "      <td>174.297359</td>\n",
       "    </tr>\n",
       "    <tr>\n",
       "      <th>3</th>\n",
       "      <td>180.491123</td>\n",
       "      <td>171.602425</td>\n",
       "    </tr>\n",
       "    <tr>\n",
       "      <th>4</th>\n",
       "      <td>173.180038</td>\n",
       "      <td>172.969585</td>\n",
       "    </tr>\n",
       "    <tr>\n",
       "      <th>...</th>\n",
       "      <td>...</td>\n",
       "      <td>...</td>\n",
       "    </tr>\n",
       "    <tr>\n",
       "      <th>99995</th>\n",
       "      <td>168.568859</td>\n",
       "      <td>170.176970</td>\n",
       "    </tr>\n",
       "    <tr>\n",
       "      <th>99996</th>\n",
       "      <td>175.863768</td>\n",
       "      <td>169.028459</td>\n",
       "    </tr>\n",
       "    <tr>\n",
       "      <th>99997</th>\n",
       "      <td>184.366118</td>\n",
       "      <td>163.141515</td>\n",
       "    </tr>\n",
       "    <tr>\n",
       "      <th>99998</th>\n",
       "      <td>174.161086</td>\n",
       "      <td>169.549000</td>\n",
       "    </tr>\n",
       "    <tr>\n",
       "      <th>99999</th>\n",
       "      <td>171.651573</td>\n",
       "      <td>168.390677</td>\n",
       "    </tr>\n",
       "  </tbody>\n",
       "</table>\n",
       "<p>100000 rows × 2 columns</p>\n",
       "</div>"
      ],
      "text/plain": [
       "       men_height  women_height\n",
       "0      177.606554    167.620293\n",
       "1      185.819193    161.660646\n",
       "2      170.798919    174.297359\n",
       "3      180.491123    171.602425\n",
       "4      173.180038    172.969585\n",
       "...           ...           ...\n",
       "99995  168.568859    170.176970\n",
       "99996  175.863768    169.028459\n",
       "99997  184.366118    163.141515\n",
       "99998  174.161086    169.549000\n",
       "99999  171.651573    168.390677\n",
       "\n",
       "[100000 rows x 2 columns]"
      ]
     },
     "execution_count": 188,
     "metadata": {},
     "output_type": "execute_result"
    }
   ],
   "source": [
    "# array of random men's heights\n",
    "men_height = np.random.normal(178, 8, size = 100_000)\n",
    "# array of random women's heights\n",
    "women_height = np.random.normal(170, 6, size = 100_000)\n",
    "# dataframe of both heights together\n",
    "heights = pd.DataFrame({'men_height':men_height, 'women_height':women_height})\n",
    "heights"
   ]
  },
  {
   "cell_type": "code",
   "execution_count": 189,
   "id": "b5bdf4b4",
   "metadata": {},
   "outputs": [
    {
     "data": {
      "text/plain": [
       "0.21212"
      ]
     },
     "execution_count": 189,
     "metadata": {},
     "output_type": "execute_result"
    }
   ],
   "source": [
    "# probability of random woman being taller than random man\n",
    "(heights.women_height > heights.men_height).mean()"
   ]
  },
  {
   "cell_type": "markdown",
   "id": "dd9557d0",
   "metadata": {},
   "source": [
    "### 6. When installing anaconda on a student's computer, there's a 1 in 250 chance that the download is corrupted and the installation fails. What are the odds that after having 50 students download anaconda, no one has an installation issue? 100 students?\n"
   ]
  },
  {
   "cell_type": "code",
   "execution_count": 208,
   "id": "b33ce6c8",
   "metadata": {},
   "outputs": [
    {
     "data": {
      "text/plain": [
       "array([[0.19284776, 0.01141645, 0.80219334, ..., 0.13945952, 0.51899736,\n",
       "        0.00700869],\n",
       "       [0.29906106, 0.26355325, 0.74016054, ..., 0.70131786, 0.47643464,\n",
       "        0.36855506],\n",
       "       [0.99903839, 0.20079724, 0.60513225, ..., 0.04633079, 0.14911988,\n",
       "        0.20709317],\n",
       "       ...,\n",
       "       [0.56658702, 0.81097625, 0.55243124, ..., 0.47709269, 0.40991623,\n",
       "        0.02414106],\n",
       "       [0.95891177, 0.45599697, 0.75131821, ..., 0.7106366 , 0.68463846,\n",
       "        0.25331433],\n",
       "       [0.12415917, 0.61359528, 0.28034646, ..., 0.10831675, 0.59716641,\n",
       "        0.23164162]])"
      ]
     },
     "execution_count": 208,
     "metadata": {},
     "output_type": "execute_result"
    }
   ],
   "source": [
    "# corruption chance\n",
    "corrupted_dl_chance = 1/250\n",
    "# students in class\n",
    "n_students = ncols = 50\n",
    "# class sims\n",
    "n_class_dl_sim = nrows = 10**6\n",
    "\n",
    "# array of sims\n",
    "dl_sim = np.random.random((nrows,ncols))\n",
    "dl_sim"
   ]
  },
  {
   "cell_type": "code",
   "execution_count": 209,
   "id": "ffbbcbeb",
   "metadata": {},
   "outputs": [
    {
     "data": {
      "text/plain": [
       "0.81855"
      ]
     },
     "execution_count": 209,
     "metadata": {},
     "output_type": "execute_result"
    }
   ],
   "source": [
    "# array of booleans where corruption occurs\n",
    "dl_sim_corrupted = dl_sim < corrupted_dl_chance\n",
    "# mean where no corruption occurs\n",
    "(dl_sim_corrupted.sum(axis = 1) == 0).mean()"
   ]
  },
  {
   "cell_type": "code",
   "execution_count": 210,
   "id": "bc6aac9a",
   "metadata": {},
   "outputs": [
    {
     "data": {
      "text/plain": [
       "0.818003"
      ]
     },
     "execution_count": 210,
     "metadata": {},
     "output_type": "execute_result"
    }
   ],
   "source": [
    "# Test with 100 students\n",
    "n_students = nolss = 100\n",
    "dl_sim = np.random.random((nrows,ncols))\n",
    "dl_sim_corrupted = dl_sim < corrupted_dl_chance\n",
    "(dl_sim_corrupted.sum(axis = 1) == 0).mean()"
   ]
  },
  {
   "cell_type": "markdown",
   "id": "22204ada",
   "metadata": {},
   "source": [
    "###  What is the probability that we observe an installation issue within the first 150 students that download anaconda?"
   ]
  },
  {
   "cell_type": "code",
   "execution_count": 211,
   "id": "ef087595",
   "metadata": {},
   "outputs": [
    {
     "data": {
      "text/plain": [
       "0.18167"
      ]
     },
     "execution_count": 211,
     "metadata": {},
     "output_type": "execute_result"
    }
   ],
   "source": [
    "n_students = 150\n",
    "dl_sim = np.random.random((nrows,ncols))\n",
    "dl_sim_corrupted = dl_sim < corrupted_dl_chance\n",
    "(dl_sim_corrupted.sum(axis = 1) >= 1).mean()"
   ]
  },
  {
   "cell_type": "markdown",
   "id": "5b8f2f86",
   "metadata": {},
   "source": [
    "### How likely is it that 450 students all download anaconda without an issue?"
   ]
  },
  {
   "cell_type": "code",
   "execution_count": 212,
   "id": "0d7036e5",
   "metadata": {},
   "outputs": [
    {
     "data": {
      "text/plain": [
       "0.818159"
      ]
     },
     "execution_count": 212,
     "metadata": {},
     "output_type": "execute_result"
    }
   ],
   "source": [
    "n_students = 450\n",
    "dl_sim = np.random.random((nrows,ncols))\n",
    "dl_sim_corrupted = dl_sim < corrupted_dl_chance\n",
    "(dl_sim_corrupted.sum(axis = 1) == 0).mean()"
   ]
  },
  {
   "cell_type": "markdown",
   "id": "cd47783b",
   "metadata": {},
   "source": [
    "### 7. There's a 70% chance on any given day that there will be at least one food truck at Travis Park. However, you haven't seen a food truck there in 3 days. How unlikely is this?"
   ]
  },
  {
   "cell_type": "code",
   "execution_count": 200,
   "id": "c9f70507",
   "metadata": {},
   "outputs": [
    {
     "data": {
      "text/plain": [
       "array([[0.84380975, 0.3473504 , 0.18701892],\n",
       "       [0.22963834, 0.56769984, 0.41634098],\n",
       "       [0.16517158, 0.21489312, 0.91483996],\n",
       "       ...,\n",
       "       [0.42291382, 0.50412902, 0.37675266],\n",
       "       [0.8704521 , 0.95817493, 0.51117989],\n",
       "       [0.43080822, 0.04466992, 0.67119721]])"
      ]
     },
     "execution_count": 200,
     "metadata": {},
     "output_type": "execute_result"
    }
   ],
   "source": [
    "# Chance of food truck arriving\n",
    "gut_truck_chance = 0.7\n",
    "# Days tested\n",
    "days = ncols = 3\n",
    "# Total simulations\n",
    "n_truck_sim = nrows = 10**6\n",
    "\n",
    "truck_sim = np.random.random((nrows,ncols))"
   ]
  },
  {
   "cell_type": "code",
   "execution_count": 201,
   "id": "107d7ed0",
   "metadata": {},
   "outputs": [
    {
     "data": {
      "text/html": [
       "<div>\n",
       "<style scoped>\n",
       "    .dataframe tbody tr th:only-of-type {\n",
       "        vertical-align: middle;\n",
       "    }\n",
       "\n",
       "    .dataframe tbody tr th {\n",
       "        vertical-align: top;\n",
       "    }\n",
       "\n",
       "    .dataframe thead th {\n",
       "        text-align: right;\n",
       "    }\n",
       "</style>\n",
       "<table border=\"1\" class=\"dataframe\">\n",
       "  <thead>\n",
       "    <tr style=\"text-align: right;\">\n",
       "      <th></th>\n",
       "      <th>0</th>\n",
       "      <th>1</th>\n",
       "      <th>2</th>\n",
       "    </tr>\n",
       "  </thead>\n",
       "  <tbody>\n",
       "    <tr>\n",
       "      <th>0</th>\n",
       "      <td>True</td>\n",
       "      <td>False</td>\n",
       "      <td>False</td>\n",
       "    </tr>\n",
       "    <tr>\n",
       "      <th>1</th>\n",
       "      <td>False</td>\n",
       "      <td>False</td>\n",
       "      <td>False</td>\n",
       "    </tr>\n",
       "    <tr>\n",
       "      <th>2</th>\n",
       "      <td>False</td>\n",
       "      <td>False</td>\n",
       "      <td>True</td>\n",
       "    </tr>\n",
       "    <tr>\n",
       "      <th>3</th>\n",
       "      <td>True</td>\n",
       "      <td>False</td>\n",
       "      <td>False</td>\n",
       "    </tr>\n",
       "    <tr>\n",
       "      <th>4</th>\n",
       "      <td>True</td>\n",
       "      <td>False</td>\n",
       "      <td>True</td>\n",
       "    </tr>\n",
       "    <tr>\n",
       "      <th>...</th>\n",
       "      <td>...</td>\n",
       "      <td>...</td>\n",
       "      <td>...</td>\n",
       "    </tr>\n",
       "    <tr>\n",
       "      <th>999995</th>\n",
       "      <td>False</td>\n",
       "      <td>False</td>\n",
       "      <td>True</td>\n",
       "    </tr>\n",
       "    <tr>\n",
       "      <th>999996</th>\n",
       "      <td>False</td>\n",
       "      <td>False</td>\n",
       "      <td>True</td>\n",
       "    </tr>\n",
       "    <tr>\n",
       "      <th>999997</th>\n",
       "      <td>False</td>\n",
       "      <td>False</td>\n",
       "      <td>False</td>\n",
       "    </tr>\n",
       "    <tr>\n",
       "      <th>999998</th>\n",
       "      <td>True</td>\n",
       "      <td>True</td>\n",
       "      <td>False</td>\n",
       "    </tr>\n",
       "    <tr>\n",
       "      <th>999999</th>\n",
       "      <td>False</td>\n",
       "      <td>False</td>\n",
       "      <td>False</td>\n",
       "    </tr>\n",
       "  </tbody>\n",
       "</table>\n",
       "<p>1000000 rows × 3 columns</p>\n",
       "</div>"
      ],
      "text/plain": [
       "            0      1      2\n",
       "0        True  False  False\n",
       "1       False  False  False\n",
       "2       False  False   True\n",
       "3        True  False  False\n",
       "4        True  False   True\n",
       "...       ...    ...    ...\n",
       "999995  False  False   True\n",
       "999996  False  False   True\n",
       "999997  False  False  False\n",
       "999998   True   True  False\n",
       "999999  False  False  False\n",
       "\n",
       "[1000000 rows x 3 columns]"
      ]
     },
     "execution_count": 201,
     "metadata": {},
     "output_type": "execute_result"
    }
   ],
   "source": [
    "# create boolean array\n",
    "truck_arrives = truck_sim >= gut_truck_chance\n",
    "pd.DataFrame(truck_arrives)"
   ]
  },
  {
   "cell_type": "code",
   "execution_count": 202,
   "id": "52dd701d",
   "metadata": {},
   "outputs": [
    {
     "data": {
      "text/plain": [
       "0.34287"
      ]
     },
     "execution_count": 202,
     "metadata": {},
     "output_type": "execute_result"
    }
   ],
   "source": [
    "# find probability of a truck not showing up all 3 days\n",
    "(truck_arrives.sum(axis=1) == 0).mean()"
   ]
  },
  {
   "cell_type": "markdown",
   "id": "bc28ef5b",
   "metadata": {},
   "source": [
    "### How likely is it that a food truck will show up sometime this week?"
   ]
  },
  {
   "cell_type": "code",
   "execution_count": 204,
   "id": "90451b7c",
   "metadata": {},
   "outputs": [
    {
     "data": {
      "text/plain": [
       "0.916915"
      ]
     },
     "execution_count": 204,
     "metadata": {},
     "output_type": "execute_result"
    }
   ],
   "source": [
    "# change 3 days to 7 days\n",
    "days = ncols = 7\n",
    "\n",
    "# copy code\n",
    "n_truck_sim = nrows = 10**6\n",
    "truck_sim = np.random.random((nrows,ncols))\n",
    "truck_arrives = truck_sim >= gut_truck_chance\n",
    "# probability that a truck will arive at least once in a week\n",
    "(truck_arrives.sum(axis = 1) >= 1).mean()"
   ]
  },
  {
   "cell_type": "code",
   "execution_count": 205,
   "id": "21e85a5f",
   "metadata": {},
   "outputs": [
    {
     "data": {
      "text/plain": [
       "0.760245"
      ]
     },
     "execution_count": 205,
     "metadata": {},
     "output_type": "execute_result"
    }
   ],
   "source": [
    "# remaining days of week test\n",
    "days = ncols = 4\n",
    "\n",
    "# copy code\n",
    "n_truck_sim = nrows = 10**6\n",
    "truck_sim = np.random.random((nrows,ncols))\n",
    "truck_arrives = truck_sim >= gut_truck_chance\n",
    "# probability that a truck will arive at least once in a week\n",
    "(truck_arrives.sum(axis = 1) >= 1).mean()"
   ]
  },
  {
   "cell_type": "code",
   "execution_count": null,
   "id": "39aedbcd",
   "metadata": {},
   "outputs": [],
   "source": []
  },
  {
   "cell_type": "markdown",
   "id": "63ba3412",
   "metadata": {},
   "source": [
    "### 8. If 23 people are in the same room, what are the odds that two of them share a birthday? What if it's 20 people? 40?"
   ]
  },
  {
   "cell_type": "code",
   "execution_count": 216,
   "id": "8893d5a4",
   "metadata": {},
   "outputs": [
    {
     "data": {
      "text/plain": [
       "0.061076"
      ]
     },
     "execution_count": 216,
     "metadata": {},
     "output_type": "execute_result"
    }
   ],
   "source": [
    "day_chance = 1/365\n",
    "people_in_room = ncols = 23\n",
    "n_birthday_sim = nrows = 10**6\n",
    "\n",
    "# birthday_sim = np.random.choice(range(0,365+1), size = (nrows,ncols))\n",
    "birthday_sim = np.random.random((nrows,ncols))\n",
    "shared_birthday = birthday_sim < day_chance\n",
    "(shared_birthday.sum(axis = 1) >= 1).mean()"
   ]
  },
  {
   "cell_type": "code",
   "execution_count": 22,
   "id": "aaba4b9c",
   "metadata": {},
   "outputs": [
    {
     "data": {
      "text/plain": [
       "0.05357"
      ]
     },
     "execution_count": 22,
     "metadata": {},
     "output_type": "execute_result"
    }
   ],
   "source": [
    "people_in_room = ncols = 20\n",
    "n_birthday_sim = nrows = 10**5\n",
    "\n",
    "birthday_sim = np.random.random((nrows,ncols))\n",
    "shared_birthday = birthday_sim < day_chance\n",
    "(shared_birthday.sum(axis = 1) >= 1).mean()"
   ]
  },
  {
   "cell_type": "code",
   "execution_count": 23,
   "id": "e66f2f85",
   "metadata": {},
   "outputs": [
    {
     "data": {
      "text/plain": [
       "0.10309"
      ]
     },
     "execution_count": 23,
     "metadata": {},
     "output_type": "execute_result"
    }
   ],
   "source": [
    "people_in_room = ncols = 40\n",
    "n_birthday_sim = nrows = 10**5\n",
    "\n",
    "birthday_sim = np.random.random((nrows,ncols))\n",
    "shared_birthday = birthday_sim < day_chance\n",
    "(shared_birthday.sum(axis = 1) >= 1).mean()"
   ]
  },
  {
   "cell_type": "markdown",
   "id": "d403ef00",
   "metadata": {},
   "source": [
    "### Bonus Wizard Duel\n",
    "Imagine your wizard has 6d4 health points and you have spells that do 6d4 damage. \"6d4\" means rolling six 4-sided dice and summing the result.\n",
    "\n",
    "Your opposing mage has 4d6 health points and spells that do 4d6. \"4d6\" means rolling four six-sided dice and summing the result.\n",
    "\n",
    "Simulate mage duels to answer who is the more powerful mage?\n",
    "\n",
    "Before running simulations, do you have a hypothesis of which mage will win? Do you have a hunch? Write it down. This is your first exercise.\n",
    "- Simulate 10 mage duels. Is there a clear winner? Run that 10 duel simulation again. Was the answer similar?\n",
    "- Do the results change much at 100 duels?\n",
    "- Now, simulate 10,000 mage duels. Is there a clear winner?"
   ]
  },
  {
   "cell_type": "markdown",
   "id": "8efa51f3",
   "metadata": {},
   "source": [
    "I hypothesize my wizard will win"
   ]
  },
  {
   "cell_type": "code",
   "execution_count": 91,
   "id": "1687a345",
   "metadata": {},
   "outputs": [],
   "source": [
    "def wizard_duel(n_duels):\n",
    "    my_wizard_health = np.random.choice([1,2,3,4], size = (n_duels, 6)).sum(1)\n",
    "    my_wizard_damage = np.random.choice([1,2,3,4], size = (n_duels, 6)).sum(1)\n",
    "    enemy_wizard_health = np.random.choice([1,2,3,4,5,6], size = (n_duels, 4)).sum(1)\n",
    "    enemy_wizard_damage = np.random.choice([1,2,3,4,5,6], size = (n_duels, 4)).sum(1)\n",
    "    wizard_duels = pd.DataFrame({'my_wizard_health':my_wizard_health, 'my_wizard_damage':my_wizard_damage, 'enemy_wizard_health':enemy_wizard_health, 'enemy_wizard_damage':enemy_wizard_damage})\n",
    "    wizard_duels['i_win'] = wizard_duels.my_wizard_health - wizard_duels.enemy_wizard_damage > wizard_duels.enemy_wizard_health - wizard_duels.my_wizard_damage\n",
    "    return wizard_duels.i_win.mean()"
   ]
  },
  {
   "cell_type": "code",
   "execution_count": 93,
   "id": "359a9518",
   "metadata": {},
   "outputs": [
    {
     "data": {
      "text/plain": [
       "0.5"
      ]
     },
     "execution_count": 93,
     "metadata": {},
     "output_type": "execute_result"
    }
   ],
   "source": [
    "wizard_duel(10)"
   ]
  },
  {
   "cell_type": "code",
   "execution_count": 95,
   "id": "c7ce643e",
   "metadata": {},
   "outputs": [
    {
     "data": {
      "text/plain": [
       "0.7"
      ]
     },
     "execution_count": 95,
     "metadata": {},
     "output_type": "execute_result"
    }
   ],
   "source": [
    "wizard_duel(10)"
   ]
  },
  {
   "cell_type": "code",
   "execution_count": 99,
   "id": "e19942b8",
   "metadata": {},
   "outputs": [
    {
     "data": {
      "text/plain": [
       "0.53"
      ]
     },
     "execution_count": 99,
     "metadata": {},
     "output_type": "execute_result"
    }
   ],
   "source": [
    "wizard_duel(100)"
   ]
  },
  {
   "cell_type": "code",
   "execution_count": 108,
   "id": "448385e7",
   "metadata": {},
   "outputs": [
    {
     "data": {
      "text/plain": [
       "0.6012"
      ]
     },
     "execution_count": 108,
     "metadata": {},
     "output_type": "execute_result"
    }
   ],
   "source": [
    "wizard_duel(10000)"
   ]
  },
  {
   "cell_type": "markdown",
   "id": "4ced36e5",
   "metadata": {},
   "source": [
    "My wizard is the clear winner. I believe I have a higher oppurtunity to roll a larger number than the enemy, contributing to my victory"
   ]
  },
  {
   "cell_type": "markdown",
   "id": "4944ec22",
   "metadata": {},
   "source": [
    "### Bonus Chuck-a-Luck\n",
    "To play, the House says, \"Pay 1, pick a number and roll 3 dice. If any of those dice come up, you'll win 1, 2, or 3\".\n",
    "\n",
    ">\"It's even odds\", they say, \"because the probability of rolling your number is 1/6 and you get to roll 3 dice! 1/6 + 1/6 + 1/6 is 3/6 which is 1/2\".\n",
    "You know better than this, so it's time to make an experiment to approximate the actual risk and payoff...\n",
    "\n",
    "Rules:\n",
    "\n",
    "- The player pays 1 to play and picks a number.\n",
    "\n",
    "- The House rolls 3 dice at once.\n",
    "\n",
    "Payouts:\n",
    "\n",
    "- 3 if all three dice match the chosen number\n",
    "- 2 if exactly two dice match the chosen number\n",
    "- 1 is exactly one of the dice matches the chosen number\n",
    "If none of the dice match the player's chosen number, then the House keeps the 1.\n",
    "Exercises:\n",
    "\n",
    "What are your chances of getting an outcome payout of 2? (where we earned 3 on the 1 ante)\n",
    "\n",
    "What are your chances of getting an payout of 1?\n",
    "\n",
    "What are your chances of getting a payout of 0 where you ante 1 and win 1?\n",
    "\n",
    "What are your chances of getting a payout of -1 where you ante up, but don't win anything?\n",
    "\n",
    "What is the average cost/gain per game? (think of averaging the total payout calculation across all simulations)\n",
    "\n",
    "Chart out a histogram of all the outcomes of those 1,000,000 games\n",
    "\n",
    "Is this really a fair game of 1/6 + 1/6 + 1/6 odds?\n",
    "\n",
    "If you play 1,000,000 games in a row, what are your winnings/losses?"
   ]
  },
  {
   "cell_type": "code",
   "execution_count": 154,
   "id": "d0c81391",
   "metadata": {},
   "outputs": [],
   "source": [
    "n_trials = nrows = 1000000\n",
    "n_dice = ncols = 3\n",
    "number_choice = np.random.choice([1,2,3,4,5,6])\n",
    "rolls = np.random.choice([1, 2, 3, 4, 5, 6], n_trials * n_dice).reshape(nrows, ncols)\n",
    "roll_match = (rolls == number_choice).sum(1)"
   ]
  },
  {
   "cell_type": "code",
   "execution_count": 155,
   "id": "3a611430",
   "metadata": {},
   "outputs": [
    {
     "data": {
      "text/plain": [
       "0.004601"
      ]
     },
     "execution_count": 155,
     "metadata": {},
     "output_type": "execute_result"
    }
   ],
   "source": [
    "(roll_match==3).mean()"
   ]
  },
  {
   "cell_type": "code",
   "execution_count": 156,
   "id": "5c8895b9",
   "metadata": {},
   "outputs": [
    {
     "data": {
      "text/plain": [
       "0.069528"
      ]
     },
     "execution_count": 156,
     "metadata": {},
     "output_type": "execute_result"
    }
   ],
   "source": [
    "(roll_match==2).mean()"
   ]
  },
  {
   "cell_type": "code",
   "execution_count": 157,
   "id": "ae47fa04",
   "metadata": {},
   "outputs": [
    {
     "data": {
      "text/plain": [
       "0.346947"
      ]
     },
     "execution_count": 157,
     "metadata": {},
     "output_type": "execute_result"
    }
   ],
   "source": [
    "(roll_match==1).mean()"
   ]
  },
  {
   "cell_type": "code",
   "execution_count": 158,
   "id": "f757a599",
   "metadata": {},
   "outputs": [
    {
     "data": {
      "text/plain": [
       "0.578924"
      ]
     },
     "execution_count": 158,
     "metadata": {},
     "output_type": "execute_result"
    }
   ],
   "source": [
    "(roll_match==0).mean()"
   ]
  },
  {
   "cell_type": "code",
   "execution_count": 160,
   "id": "8a25fb19",
   "metadata": {},
   "outputs": [
    {
     "data": {
      "text/plain": [
       "-0.92127"
      ]
     },
     "execution_count": 160,
     "metadata": {},
     "output_type": "execute_result"
    }
   ],
   "source": [
    "wins1 = roll_match == 1\n",
    "wins2 = roll_match == 2\n",
    "wins3 = roll_match == 3\n",
    "win_rate1 = wins1.mean()\n",
    "win_rate2 = wins2.mean()\n",
    "win_rate3 = wins3.mean()\n",
    "expected_winnings = win_rate1 * 0 + win_rate2 * 1 + win_rate3 * 2\n",
    "cost = 1\n",
    "expected_profit = expected_winnings - cost\n",
    "expected_profit"
   ]
  },
  {
   "cell_type": "code",
   "execution_count": null,
   "id": "2650cfbb",
   "metadata": {},
   "outputs": [],
   "source": []
  }
 ],
 "metadata": {
  "kernelspec": {
   "display_name": "Python 3",
   "language": "python",
   "name": "python3"
  },
  "language_info": {
   "codemirror_mode": {
    "name": "ipython",
    "version": 3
   },
   "file_extension": ".py",
   "mimetype": "text/x-python",
   "name": "python",
   "nbconvert_exporter": "python",
   "pygments_lexer": "ipython3",
   "version": "3.8.8"
  }
 },
 "nbformat": 4,
 "nbformat_minor": 5
}
